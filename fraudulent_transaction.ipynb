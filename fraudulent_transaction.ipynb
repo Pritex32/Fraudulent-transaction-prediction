{
  "cells": [
    {
      "cell_type": "markdown",
      "metadata": {
        "id": "XTv0NwMsMmjq"
      },
      "source": [
        "# Analysis by Prisca Ukanwa"
      ]
    },
    {
      "cell_type": "code",
      "execution_count": 2,
      "metadata": {
        "id": "bqfAT-vEghd6"
      },
      "outputs": [],
      "source": [
        "import pandas as pd\n",
        "import numpy as np\n",
        "import matplotlib.pyplot as plt\n",
        "import seaborn as sns\n",
        "import warnings\n",
        "warnings.filterwarnings('ignore')"
      ]
    },
    {
      "cell_type": "code",
      "execution_count": 3,
      "metadata": {
        "id": "1PLmnvFsjCMV"
      },
      "outputs": [],
      "source": [
        "df=pd.read_csv('/content/Fraud.csv')"
      ]
    },
    {
      "cell_type": "code",
      "execution_count": 4,
      "metadata": {
        "id": "D4NMoFN-nfvs"
      },
      "outputs": [],
      "source": [
        "## project aim: Predict whether a transaction is fraudulent or not based on available data.\n",
        "## and to build  a classification model where the target variable indicates if a transaction is fraud (1) or not (0)."
      ]
    },
    {
      "cell_type": "code",
      "execution_count": 5,
      "metadata": {
        "colab": {
          "base_uri": "https://localhost:8080/",
          "height": 206
        },
        "id": "A02tEgGKjSnB",
        "outputId": "607dcffb-cb46-45d8-ac23-5e293c6c0f22"
      },
      "outputs": [
        {
          "output_type": "execute_result",
          "data": {
            "text/plain": [
              "   step      type    amount     nameOrig  oldbalanceOrg  newbalanceOrig  \\\n",
              "0     1   PAYMENT   9839.64  C1231006815       170136.0       160296.36   \n",
              "1     1   PAYMENT   1864.28  C1666544295        21249.0        19384.72   \n",
              "2     1  TRANSFER    181.00  C1305486145          181.0            0.00   \n",
              "3     1  CASH_OUT    181.00   C840083671          181.0            0.00   \n",
              "4     1   PAYMENT  11668.14  C2048537720        41554.0        29885.86   \n",
              "\n",
              "      nameDest  oldbalanceDest  newbalanceDest  isFraud  isFlaggedFraud  \n",
              "0  M1979787155             0.0             0.0      0.0             0.0  \n",
              "1  M2044282225             0.0             0.0      0.0             0.0  \n",
              "2   C553264065             0.0             0.0      1.0             0.0  \n",
              "3    C38997010         21182.0             0.0      1.0             0.0  \n",
              "4  M1230701703             0.0             0.0      0.0             0.0  "
            ],
            "text/html": [
              "\n",
              "  <div id=\"df-dcd33968-817a-474c-aae8-9c43dc7fa953\" class=\"colab-df-container\">\n",
              "    <div>\n",
              "<style scoped>\n",
              "    .dataframe tbody tr th:only-of-type {\n",
              "        vertical-align: middle;\n",
              "    }\n",
              "\n",
              "    .dataframe tbody tr th {\n",
              "        vertical-align: top;\n",
              "    }\n",
              "\n",
              "    .dataframe thead th {\n",
              "        text-align: right;\n",
              "    }\n",
              "</style>\n",
              "<table border=\"1\" class=\"dataframe\">\n",
              "  <thead>\n",
              "    <tr style=\"text-align: right;\">\n",
              "      <th></th>\n",
              "      <th>step</th>\n",
              "      <th>type</th>\n",
              "      <th>amount</th>\n",
              "      <th>nameOrig</th>\n",
              "      <th>oldbalanceOrg</th>\n",
              "      <th>newbalanceOrig</th>\n",
              "      <th>nameDest</th>\n",
              "      <th>oldbalanceDest</th>\n",
              "      <th>newbalanceDest</th>\n",
              "      <th>isFraud</th>\n",
              "      <th>isFlaggedFraud</th>\n",
              "    </tr>\n",
              "  </thead>\n",
              "  <tbody>\n",
              "    <tr>\n",
              "      <th>0</th>\n",
              "      <td>1</td>\n",
              "      <td>PAYMENT</td>\n",
              "      <td>9839.64</td>\n",
              "      <td>C1231006815</td>\n",
              "      <td>170136.0</td>\n",
              "      <td>160296.36</td>\n",
              "      <td>M1979787155</td>\n",
              "      <td>0.0</td>\n",
              "      <td>0.0</td>\n",
              "      <td>0.0</td>\n",
              "      <td>0.0</td>\n",
              "    </tr>\n",
              "    <tr>\n",
              "      <th>1</th>\n",
              "      <td>1</td>\n",
              "      <td>PAYMENT</td>\n",
              "      <td>1864.28</td>\n",
              "      <td>C1666544295</td>\n",
              "      <td>21249.0</td>\n",
              "      <td>19384.72</td>\n",
              "      <td>M2044282225</td>\n",
              "      <td>0.0</td>\n",
              "      <td>0.0</td>\n",
              "      <td>0.0</td>\n",
              "      <td>0.0</td>\n",
              "    </tr>\n",
              "    <tr>\n",
              "      <th>2</th>\n",
              "      <td>1</td>\n",
              "      <td>TRANSFER</td>\n",
              "      <td>181.00</td>\n",
              "      <td>C1305486145</td>\n",
              "      <td>181.0</td>\n",
              "      <td>0.00</td>\n",
              "      <td>C553264065</td>\n",
              "      <td>0.0</td>\n",
              "      <td>0.0</td>\n",
              "      <td>1.0</td>\n",
              "      <td>0.0</td>\n",
              "    </tr>\n",
              "    <tr>\n",
              "      <th>3</th>\n",
              "      <td>1</td>\n",
              "      <td>CASH_OUT</td>\n",
              "      <td>181.00</td>\n",
              "      <td>C840083671</td>\n",
              "      <td>181.0</td>\n",
              "      <td>0.00</td>\n",
              "      <td>C38997010</td>\n",
              "      <td>21182.0</td>\n",
              "      <td>0.0</td>\n",
              "      <td>1.0</td>\n",
              "      <td>0.0</td>\n",
              "    </tr>\n",
              "    <tr>\n",
              "      <th>4</th>\n",
              "      <td>1</td>\n",
              "      <td>PAYMENT</td>\n",
              "      <td>11668.14</td>\n",
              "      <td>C2048537720</td>\n",
              "      <td>41554.0</td>\n",
              "      <td>29885.86</td>\n",
              "      <td>M1230701703</td>\n",
              "      <td>0.0</td>\n",
              "      <td>0.0</td>\n",
              "      <td>0.0</td>\n",
              "      <td>0.0</td>\n",
              "    </tr>\n",
              "  </tbody>\n",
              "</table>\n",
              "</div>\n",
              "    <div class=\"colab-df-buttons\">\n",
              "\n",
              "  <div class=\"colab-df-container\">\n",
              "    <button class=\"colab-df-convert\" onclick=\"convertToInteractive('df-dcd33968-817a-474c-aae8-9c43dc7fa953')\"\n",
              "            title=\"Convert this dataframe to an interactive table.\"\n",
              "            style=\"display:none;\">\n",
              "\n",
              "  <svg xmlns=\"http://www.w3.org/2000/svg\" height=\"24px\" viewBox=\"0 -960 960 960\">\n",
              "    <path d=\"M120-120v-720h720v720H120Zm60-500h600v-160H180v160Zm220 220h160v-160H400v160Zm0 220h160v-160H400v160ZM180-400h160v-160H180v160Zm440 0h160v-160H620v160ZM180-180h160v-160H180v160Zm440 0h160v-160H620v160Z\"/>\n",
              "  </svg>\n",
              "    </button>\n",
              "\n",
              "  <style>\n",
              "    .colab-df-container {\n",
              "      display:flex;\n",
              "      gap: 12px;\n",
              "    }\n",
              "\n",
              "    .colab-df-convert {\n",
              "      background-color: #E8F0FE;\n",
              "      border: none;\n",
              "      border-radius: 50%;\n",
              "      cursor: pointer;\n",
              "      display: none;\n",
              "      fill: #1967D2;\n",
              "      height: 32px;\n",
              "      padding: 0 0 0 0;\n",
              "      width: 32px;\n",
              "    }\n",
              "\n",
              "    .colab-df-convert:hover {\n",
              "      background-color: #E2EBFA;\n",
              "      box-shadow: 0px 1px 2px rgba(60, 64, 67, 0.3), 0px 1px 3px 1px rgba(60, 64, 67, 0.15);\n",
              "      fill: #174EA6;\n",
              "    }\n",
              "\n",
              "    .colab-df-buttons div {\n",
              "      margin-bottom: 4px;\n",
              "    }\n",
              "\n",
              "    [theme=dark] .colab-df-convert {\n",
              "      background-color: #3B4455;\n",
              "      fill: #D2E3FC;\n",
              "    }\n",
              "\n",
              "    [theme=dark] .colab-df-convert:hover {\n",
              "      background-color: #434B5C;\n",
              "      box-shadow: 0px 1px 3px 1px rgba(0, 0, 0, 0.15);\n",
              "      filter: drop-shadow(0px 1px 2px rgba(0, 0, 0, 0.3));\n",
              "      fill: #FFFFFF;\n",
              "    }\n",
              "  </style>\n",
              "\n",
              "    <script>\n",
              "      const buttonEl =\n",
              "        document.querySelector('#df-dcd33968-817a-474c-aae8-9c43dc7fa953 button.colab-df-convert');\n",
              "      buttonEl.style.display =\n",
              "        google.colab.kernel.accessAllowed ? 'block' : 'none';\n",
              "\n",
              "      async function convertToInteractive(key) {\n",
              "        const element = document.querySelector('#df-dcd33968-817a-474c-aae8-9c43dc7fa953');\n",
              "        const dataTable =\n",
              "          await google.colab.kernel.invokeFunction('convertToInteractive',\n",
              "                                                    [key], {});\n",
              "        if (!dataTable) return;\n",
              "\n",
              "        const docLinkHtml = 'Like what you see? Visit the ' +\n",
              "          '<a target=\"_blank\" href=https://colab.research.google.com/notebooks/data_table.ipynb>data table notebook</a>'\n",
              "          + ' to learn more about interactive tables.';\n",
              "        element.innerHTML = '';\n",
              "        dataTable['output_type'] = 'display_data';\n",
              "        await google.colab.output.renderOutput(dataTable, element);\n",
              "        const docLink = document.createElement('div');\n",
              "        docLink.innerHTML = docLinkHtml;\n",
              "        element.appendChild(docLink);\n",
              "      }\n",
              "    </script>\n",
              "  </div>\n",
              "\n",
              "\n",
              "<div id=\"df-cd7f3eea-b622-44e6-953c-54566992f40b\">\n",
              "  <button class=\"colab-df-quickchart\" onclick=\"quickchart('df-cd7f3eea-b622-44e6-953c-54566992f40b')\"\n",
              "            title=\"Suggest charts\"\n",
              "            style=\"display:none;\">\n",
              "\n",
              "<svg xmlns=\"http://www.w3.org/2000/svg\" height=\"24px\"viewBox=\"0 0 24 24\"\n",
              "     width=\"24px\">\n",
              "    <g>\n",
              "        <path d=\"M19 3H5c-1.1 0-2 .9-2 2v14c0 1.1.9 2 2 2h14c1.1 0 2-.9 2-2V5c0-1.1-.9-2-2-2zM9 17H7v-7h2v7zm4 0h-2V7h2v10zm4 0h-2v-4h2v4z\"/>\n",
              "    </g>\n",
              "</svg>\n",
              "  </button>\n",
              "\n",
              "<style>\n",
              "  .colab-df-quickchart {\n",
              "      --bg-color: #E8F0FE;\n",
              "      --fill-color: #1967D2;\n",
              "      --hover-bg-color: #E2EBFA;\n",
              "      --hover-fill-color: #174EA6;\n",
              "      --disabled-fill-color: #AAA;\n",
              "      --disabled-bg-color: #DDD;\n",
              "  }\n",
              "\n",
              "  [theme=dark] .colab-df-quickchart {\n",
              "      --bg-color: #3B4455;\n",
              "      --fill-color: #D2E3FC;\n",
              "      --hover-bg-color: #434B5C;\n",
              "      --hover-fill-color: #FFFFFF;\n",
              "      --disabled-bg-color: #3B4455;\n",
              "      --disabled-fill-color: #666;\n",
              "  }\n",
              "\n",
              "  .colab-df-quickchart {\n",
              "    background-color: var(--bg-color);\n",
              "    border: none;\n",
              "    border-radius: 50%;\n",
              "    cursor: pointer;\n",
              "    display: none;\n",
              "    fill: var(--fill-color);\n",
              "    height: 32px;\n",
              "    padding: 0;\n",
              "    width: 32px;\n",
              "  }\n",
              "\n",
              "  .colab-df-quickchart:hover {\n",
              "    background-color: var(--hover-bg-color);\n",
              "    box-shadow: 0 1px 2px rgba(60, 64, 67, 0.3), 0 1px 3px 1px rgba(60, 64, 67, 0.15);\n",
              "    fill: var(--button-hover-fill-color);\n",
              "  }\n",
              "\n",
              "  .colab-df-quickchart-complete:disabled,\n",
              "  .colab-df-quickchart-complete:disabled:hover {\n",
              "    background-color: var(--disabled-bg-color);\n",
              "    fill: var(--disabled-fill-color);\n",
              "    box-shadow: none;\n",
              "  }\n",
              "\n",
              "  .colab-df-spinner {\n",
              "    border: 2px solid var(--fill-color);\n",
              "    border-color: transparent;\n",
              "    border-bottom-color: var(--fill-color);\n",
              "    animation:\n",
              "      spin 1s steps(1) infinite;\n",
              "  }\n",
              "\n",
              "  @keyframes spin {\n",
              "    0% {\n",
              "      border-color: transparent;\n",
              "      border-bottom-color: var(--fill-color);\n",
              "      border-left-color: var(--fill-color);\n",
              "    }\n",
              "    20% {\n",
              "      border-color: transparent;\n",
              "      border-left-color: var(--fill-color);\n",
              "      border-top-color: var(--fill-color);\n",
              "    }\n",
              "    30% {\n",
              "      border-color: transparent;\n",
              "      border-left-color: var(--fill-color);\n",
              "      border-top-color: var(--fill-color);\n",
              "      border-right-color: var(--fill-color);\n",
              "    }\n",
              "    40% {\n",
              "      border-color: transparent;\n",
              "      border-right-color: var(--fill-color);\n",
              "      border-top-color: var(--fill-color);\n",
              "    }\n",
              "    60% {\n",
              "      border-color: transparent;\n",
              "      border-right-color: var(--fill-color);\n",
              "    }\n",
              "    80% {\n",
              "      border-color: transparent;\n",
              "      border-right-color: var(--fill-color);\n",
              "      border-bottom-color: var(--fill-color);\n",
              "    }\n",
              "    90% {\n",
              "      border-color: transparent;\n",
              "      border-bottom-color: var(--fill-color);\n",
              "    }\n",
              "  }\n",
              "</style>\n",
              "\n",
              "  <script>\n",
              "    async function quickchart(key) {\n",
              "      const quickchartButtonEl =\n",
              "        document.querySelector('#' + key + ' button');\n",
              "      quickchartButtonEl.disabled = true;  // To prevent multiple clicks.\n",
              "      quickchartButtonEl.classList.add('colab-df-spinner');\n",
              "      try {\n",
              "        const charts = await google.colab.kernel.invokeFunction(\n",
              "            'suggestCharts', [key], {});\n",
              "      } catch (error) {\n",
              "        console.error('Error during call to suggestCharts:', error);\n",
              "      }\n",
              "      quickchartButtonEl.classList.remove('colab-df-spinner');\n",
              "      quickchartButtonEl.classList.add('colab-df-quickchart-complete');\n",
              "    }\n",
              "    (() => {\n",
              "      let quickchartButtonEl =\n",
              "        document.querySelector('#df-cd7f3eea-b622-44e6-953c-54566992f40b button');\n",
              "      quickchartButtonEl.style.display =\n",
              "        google.colab.kernel.accessAllowed ? 'block' : 'none';\n",
              "    })();\n",
              "  </script>\n",
              "</div>\n",
              "\n",
              "    </div>\n",
              "  </div>\n"
            ],
            "application/vnd.google.colaboratory.intrinsic+json": {
              "type": "dataframe",
              "variable_name": "df"
            }
          },
          "metadata": {},
          "execution_count": 5
        }
      ],
      "source": [
        "df.head()"
      ]
    },
    {
      "cell_type": "code",
      "execution_count": 6,
      "metadata": {
        "colab": {
          "base_uri": "https://localhost:8080/"
        },
        "id": "uaApWOuujUbR",
        "outputId": "0435108a-b44a-4264-ef3c-3273b487bce1"
      },
      "outputs": [
        {
          "output_type": "execute_result",
          "data": {
            "text/plain": [
              "Index(['step', 'type', 'amount', 'nameOrig', 'oldbalanceOrg', 'newbalanceOrig',\n",
              "       'nameDest', 'oldbalanceDest', 'newbalanceDest', 'isFraud',\n",
              "       'isFlaggedFraud'],\n",
              "      dtype='object')"
            ]
          },
          "metadata": {},
          "execution_count": 6
        }
      ],
      "source": [
        "df.columns"
      ]
    },
    {
      "cell_type": "code",
      "execution_count": 7,
      "metadata": {
        "id": "cuRv2pLejtB1"
      },
      "outputs": [],
      "source": [
        "df.columns=['step', 'transaction_type', 'trans_amount', 'trans_origin', 'bal_before_trans', 'bal_after_trans',\n",
        "       'trans_recipient', 'bal_before_trans_recip', 'bal_after_trans_recip', 'isFraud',\n",
        "       'isFlaggedFraud'] # columns modifications for easy understanding."
      ]
    },
    {
      "cell_type": "code",
      "execution_count": 8,
      "metadata": {
        "colab": {
          "base_uri": "https://localhost:8080/"
        },
        "id": "_RxUMs66l4cH",
        "outputId": "0ebadb4e-fdc2-4632-e529-61710290acda"
      },
      "outputs": [
        {
          "output_type": "execute_result",
          "data": {
            "text/plain": [
              "11"
            ]
          },
          "metadata": {},
          "execution_count": 8
        }
      ],
      "source": [
        "# checking for missing values\n",
        "missing_val=df.isnull().sum()\n",
        "len(missing_val) # 11 missing value found"
      ]
    },
    {
      "cell_type": "code",
      "execution_count": 9,
      "metadata": {
        "id": "vmmC1mrMmg-5"
      },
      "outputs": [],
      "source": [
        "df.dropna(inplace=True) # droping missing values because it wont affect my data, no need for imputation"
      ]
    },
    {
      "cell_type": "code",
      "execution_count": 10,
      "metadata": {
        "colab": {
          "base_uri": "https://localhost:8080/"
        },
        "id": "WlxJ7lXkmB1K",
        "outputId": "388342f1-dab5-43c8-8b8d-2f37fd01a059"
      },
      "outputs": [
        {
          "output_type": "execute_result",
          "data": {
            "text/plain": [
              "0"
            ]
          },
          "metadata": {},
          "execution_count": 10
        }
      ],
      "source": [
        "# cheecking for duplicates\n",
        "df_dup=df.duplicated().sum()\n",
        "df_dup # no duplicates found"
      ]
    },
    {
      "cell_type": "code",
      "execution_count": 11,
      "metadata": {
        "colab": {
          "base_uri": "https://localhost:8080/"
        },
        "id": "ypw-22gXm0XJ",
        "outputId": "63d3fe53-fca5-4b79-ac49-c838ed3b649b"
      },
      "outputs": [
        {
          "output_type": "execute_result",
          "data": {
            "text/plain": [
              "(138115, 11)"
            ]
          },
          "metadata": {},
          "execution_count": 11
        }
      ],
      "source": [
        "df.shape # data size"
      ]
    },
    {
      "cell_type": "code",
      "execution_count": 12,
      "metadata": {
        "colab": {
          "base_uri": "https://localhost:8080/"
        },
        "id": "4us_Mefom2S5",
        "outputId": "8563e130-b8c7-46db-913a-199edaf94021"
      },
      "outputs": [
        {
          "output_type": "stream",
          "name": "stdout",
          "text": [
            "<class 'pandas.core.frame.DataFrame'>\n",
            "Index: 138115 entries, 0 to 138114\n",
            "Data columns (total 11 columns):\n",
            " #   Column                  Non-Null Count   Dtype  \n",
            "---  ------                  --------------   -----  \n",
            " 0   step                    138115 non-null  int64  \n",
            " 1   transaction_type        138115 non-null  object \n",
            " 2   trans_amount            138115 non-null  float64\n",
            " 3   trans_origin            138115 non-null  object \n",
            " 4   bal_before_trans        138115 non-null  float64\n",
            " 5   bal_after_trans         138115 non-null  float64\n",
            " 6   trans_recipient         138115 non-null  object \n",
            " 7   bal_before_trans_recip  138115 non-null  float64\n",
            " 8   bal_after_trans_recip   138115 non-null  float64\n",
            " 9   isFraud                 138115 non-null  float64\n",
            " 10  isFlaggedFraud          138115 non-null  float64\n",
            "dtypes: float64(7), int64(1), object(3)\n",
            "memory usage: 12.6+ MB\n"
          ]
        }
      ],
      "source": [
        "df.info()"
      ]
    },
    {
      "cell_type": "code",
      "execution_count": 13,
      "metadata": {
        "colab": {
          "base_uri": "https://localhost:8080/"
        },
        "id": "WL5B3lL9m_AG",
        "outputId": "f4cc9bc5-d814-46f0-e16a-0a366c643ca9"
      },
      "outputs": [
        {
          "output_type": "execute_result",
          "data": {
            "text/plain": [
              "array(['C1231006815', 'C1666544295', 'C1305486145', ..., 'C2063932957',\n",
              "       'C850779719', 'C1697243396'], dtype=object)"
            ]
          },
          "metadata": {},
          "execution_count": 13
        }
      ],
      "source": [
        "df['trans_origin'].unique()"
      ]
    },
    {
      "cell_type": "code",
      "execution_count": 14,
      "metadata": {
        "colab": {
          "base_uri": "https://localhost:8080/"
        },
        "id": "O25dSosFoBe8",
        "outputId": "d78195cc-215a-44b0-aa6c-2842468bd69b"
      },
      "outputs": [
        {
          "output_type": "execute_result",
          "data": {
            "text/plain": [
              "array([1.7013600e+05, 2.1249000e+04, 1.8100000e+02, ..., 3.7236943e+05,\n",
              "       2.6154078e+05, 9.3363190e+04])"
            ]
          },
          "metadata": {},
          "execution_count": 14
        }
      ],
      "source": [
        "df['bal_before_trans'].unique()"
      ]
    },
    {
      "cell_type": "code",
      "execution_count": 15,
      "metadata": {
        "id": "djkaqeJwoJk_"
      },
      "outputs": [],
      "source": [
        "imbal=df['isFraud'].value_counts() # checking for imbalance in data, it is discovered that this data is imbalance"
      ]
    },
    {
      "cell_type": "code",
      "execution_count": 16,
      "metadata": {
        "colab": {
          "base_uri": "https://localhost:8080/",
          "height": 466
        },
        "id": "873lH77ipIKI",
        "outputId": "7e491a9a-e8a0-4379-86f1-60228d52dbde"
      },
      "outputs": [
        {
          "output_type": "execute_result",
          "data": {
            "text/plain": [
              "<Axes: xlabel='isFraud', ylabel='count'>"
            ]
          },
          "metadata": {},
          "execution_count": 16
        },
        {
          "output_type": "display_data",
          "data": {
            "text/plain": [
              "<Figure size 640x480 with 1 Axes>"
            ],
            "image/png": "[encoded data removed]"
          },
          "metadata": {}
        }
      ],
      "source": [
        "sns.barplot(imbal,color='red')\n",
        "# visualizing imbalance data,\n",
        "## from this chart, 0 wich is non fraud dominant in this categorical column"
      ]
    },
    {
      "cell_type": "code",
      "execution_count": 17,
      "metadata": {
        "id": "gdKT9TNDoTPD"
      },
      "outputs": [],
      "source": [
        "trans_val=df['transaction_type'].value_counts()"
      ]
    },
    {
      "cell_type": "code",
      "execution_count": 18,
      "metadata": {
        "colab": {
          "base_uri": "https://localhost:8080/",
          "height": 467
        },
        "id": "l07UX0ZMo35d",
        "outputId": "603f6782-94c3-4ea4-d904-fe7ecc1bf000"
      },
      "outputs": [
        {
          "output_type": "execute_result",
          "data": {
            "text/plain": [
              "<Axes: xlabel='transaction_type', ylabel='count'>"
            ]
          },
          "metadata": {},
          "execution_count": 18
        },
        {
          "output_type": "display_data",
          "data": {
            "text/plain": [
              "<Figure size 640x480 with 1 Axes>"
            ],
            "image/png": "[encoded data removed]"
          },
          "metadata": {}
        }
      ],
      "source": [
        "sns.barplot(trans_val,color='yellow')"
      ]
    },
    {
      "cell_type": "code",
      "execution_count": 19,
      "metadata": {
        "id": "PpyUHLkQn5Ck"
      },
      "outputs": [],
      "source": []
    },
    {
      "cell_type": "code",
      "execution_count": 20,
      "metadata": {
        "id": "S4Y1M8qarzXc"
      },
      "outputs": [],
      "source": [
        "df_res=df.copy() # duplicating the data frame to maintain its original state"
      ]
    },
    {
      "cell_type": "markdown",
      "metadata": {
        "id": "orcK6P62sBeL"
      },
      "source": [
        "# outliers"
      ]
    },
    {
      "cell_type": "code",
      "execution_count": 21,
      "metadata": {
        "colab": {
          "base_uri": "https://localhost:8080/",
          "height": 462
        },
        "id": "S-BE5oGOsFQm",
        "outputId": "e572afcf-c90a-4763-d812-024c54c666a4"
      },
      "outputs": [
        {
          "output_type": "execute_result",
          "data": {
            "text/plain": [
              "<Axes: >"
            ]
          },
          "metadata": {},
          "execution_count": 21
        },
        {
          "output_type": "display_data",
          "data": {
            "text/plain": [
              "<Figure size 640x480 with 1 Axes>"
            ],
            "image/png": "[encoded data removed]"
          },
          "metadata": {}
        }
      ],
      "source": [
        "df_res.boxplot(column=['step', 'trans_amount', 'bal_before_trans', 'bal_after_trans']) # checking for outlier\n",
        "## outliers found"
      ]
    },
    {
      "cell_type": "code",
      "execution_count": 22,
      "metadata": {
        "colab": {
          "base_uri": "https://localhost:8080/",
          "height": 462
        },
        "id": "YeIvMgzwtYxV",
        "outputId": "f0af8882-db5f-4e04-bf39-65cfc810cf51"
      },
      "outputs": [
        {
          "output_type": "execute_result",
          "data": {
            "text/plain": [
              "<Axes: >"
            ]
          },
          "metadata": {},
          "execution_count": 22
        },
        {
          "output_type": "display_data",
          "data": {
            "text/plain": [
              "<Figure size 640x480 with 1 Axes>"
            ],
            "image/png": "[encoded data removed]"
          },
          "metadata": {}
        }
      ],
      "source": [
        "df_res.boxplot(column=['bal_before_trans_recip', 'bal_after_trans_recip'])"
      ]
    },
    {
      "cell_type": "code",
      "execution_count": 23,
      "metadata": {
        "id": "G5-qKVxqtYtm"
      },
      "outputs": [],
      "source": [
        "# handling the outliers  by capping"
      ]
    },
    {
      "cell_type": "code",
      "execution_count": 24,
      "metadata": {
        "colab": {
          "base_uri": "https://localhost:8080/"
        },
        "id": "xYo8b4EQtYqa",
        "outputId": "7d3f2216-0131-4294-f393-4b8d55f20f0d"
      },
      "outputs": [
        {
          "output_type": "execute_result",
          "data": {
            "text/plain": [
              "(536380.5499999999, -304405.00999999995)"
            ]
          },
          "metadata": {},
          "execution_count": 24
        }
      ],
      "source": [
        "q1=df_res['trans_amount'].quantile(0.25)\n",
        "q3=df_res['trans_amount'].quantile(0.75)\n",
        "iqr=q3-q1\n",
        "upper=q3+1.5*iqr\n",
        "lower=q1-1.5*iqr\n",
        "upper,lower # determining the upper and lower band using inter_quartile method"
      ]
    },
    {
      "cell_type": "code",
      "execution_count": 25,
      "metadata": {
        "colab": {
          "base_uri": "https://localhost:8080/"
        },
        "id": "L2P_Q_35tYmn",
        "outputId": "fb3f2185-fcf9-42a6-ceb5-b83859b40e9d"
      },
      "outputs": [
        {
          "output_type": "execute_result",
          "data": {
            "text/plain": [
              "8586"
            ]
          },
          "metadata": {},
          "execution_count": 25
        }
      ],
      "source": [
        "# filtering the outlier\n",
        "amount_out=df_res.loc[(df_res['trans_amount'] > upper)|(df_res['trans_amount'] < lower)]\n",
        "len(amount_out)"
      ]
    },
    {
      "cell_type": "code",
      "execution_count": 26,
      "metadata": {
        "id": "SxTp0Ay7tYhz"
      },
      "outputs": [],
      "source": [
        "#capping this outlier\n",
        "df_res.loc[(df_res['trans_amount']>upper),'trans_amount']=upper\n",
        "df_res.loc[(df_res['trans_amount']<lower),'trans_amount']=lower"
      ]
    },
    {
      "cell_type": "code",
      "execution_count": 27,
      "metadata": {
        "colab": {
          "base_uri": "https://localhost:8080/",
          "height": 428
        },
        "id": "vsh9SqTBtYdV",
        "outputId": "39f4349f-d28f-4949-a539-dbb3b072b186"
      },
      "outputs": [
        {
          "output_type": "execute_result",
          "data": {
            "text/plain": [
              "<Axes: ylabel='trans_amount'>"
            ]
          },
          "metadata": {},
          "execution_count": 27
        },
        {
          "output_type": "display_data",
          "data": {
            "text/plain": [
              "<Figure size 640x480 with 1 Axes>"
            ],
            "image/png": "[encoded data removed]"
          },
          "metadata": {}
        }
      ],
      "source": [
        "sns.boxplot(df_res['trans_amount'])\n",
        "# outlier handled in the column :'trans_amount'"
      ]
    },
    {
      "cell_type": "code",
      "execution_count": 28,
      "metadata": {
        "colab": {
          "base_uri": "https://localhost:8080/"
        },
        "id": "YoQ9L98ytYVO",
        "outputId": "e9c35bf8-a2cd-4c5e-8130-67569fa243c1"
      },
      "outputs": [
        {
          "output_type": "execute_result",
          "data": {
            "text/plain": [
              "(490774.9000000001, -294464.94000000006)"
            ]
          },
          "metadata": {},
          "execution_count": 28
        }
      ],
      "source": [
        "# determining the upper and lower bound for column: 'bal_after_trans'\n",
        "q1=df_res['bal_before_trans'].quantile(0.25)\n",
        "q3=df_res['bal_before_trans'].quantile(0.75)\n",
        "iqr=q3-q1\n",
        "upper=q3+1.5*iqr\n",
        "lower=q1-1.5*iqr\n",
        "upper,lower # determining the upper and lower band using inter_quartile method"
      ]
    },
    {
      "cell_type": "code",
      "execution_count": 29,
      "metadata": {
        "colab": {
          "base_uri": "https://localhost:8080/"
        },
        "id": "LqCoWkY5tYKB",
        "outputId": "c275a6c4-91fa-49ee-c105-b0b75b81ec7f"
      },
      "outputs": [
        {
          "output_type": "execute_result",
          "data": {
            "text/plain": [
              "25053"
            ]
          },
          "metadata": {},
          "execution_count": 29
        }
      ],
      "source": [
        "# filte ring outlier for column: 'bal_before_trans'\n",
        "bal_before_trans=df_res.loc[(df_res['bal_before_trans'] > upper)|(df_res['bal_before_trans'] < lower)]\n",
        "len(bal_before_trans)"
      ]
    },
    {
      "cell_type": "code",
      "execution_count": 30,
      "metadata": {
        "id": "f3qYxwuyDt87"
      },
      "outputs": [],
      "source": [
        "# capping outlier for column: 'bal_after_trans'\n",
        "df_res.loc[(df['bal_before_trans']>upper),'bal_before_trans']=upper\n",
        "df_res.loc[(df['bal_before_trans']<lower),'bal_before_trans']=lower"
      ]
    },
    {
      "cell_type": "code",
      "execution_count": 31,
      "metadata": {
        "colab": {
          "base_uri": "https://localhost:8080/",
          "height": 450
        },
        "id": "q8Tr8byrDt5r",
        "outputId": "f941fe9e-94e6-4fa0-e8e3-1c600b82eeac"
      },
      "outputs": [
        {
          "output_type": "execute_result",
          "data": {
            "text/plain": [
              "Text(0.5, 1.0, 'bal_befor_tans')"
            ]
          },
          "metadata": {},
          "execution_count": 31
        },
        {
          "output_type": "display_data",
          "data": {
            "text/plain": [
              "<Figure size 640x480 with 1 Axes>"
            ],
            "image/png": "[encoded data removed]"
          },
          "metadata": {}
        }
      ],
      "source": [
        "# revisualizing the outlier for column:'bal_after_trans'\n",
        "sns.boxplot(df_res['bal_before_trans'])\n",
        "plt.title('bal_befor_tans')"
      ]
    },
    {
      "cell_type": "code",
      "execution_count": 31,
      "metadata": {
        "id": "3RMclwCZDt2A"
      },
      "outputs": [],
      "source": []
    },
    {
      "cell_type": "code",
      "execution_count": 32,
      "metadata": {
        "colab": {
          "base_uri": "https://localhost:8080/"
        },
        "id": "Fs1wqkp6Dtyw",
        "outputId": "66912351-1c05-4197-ec85-a2033bc8eba2"
      },
      "outputs": [
        {
          "output_type": "execute_result",
          "data": {
            "text/plain": [
              "(561885.325, -337131.195)"
            ]
          },
          "metadata": {},
          "execution_count": 32
        }
      ],
      "source": [
        "# determining the upper and lower bound for column: 'bal_after_trans'\n",
        "q1=df_res['bal_after_trans'].quantile(0.25)\n",
        "q3=df_res['bal_after_trans'].quantile(0.75)\n",
        "iqr=q3-q1\n",
        "upper=q3+1.5*iqr\n",
        "lower=q1-1.5*iqr\n",
        "upper,lower # determining the upper and lower band using inter_quartile method"
      ]
    },
    {
      "cell_type": "code",
      "execution_count": 33,
      "metadata": {
        "colab": {
          "base_uri": "https://localhost:8080/"
        },
        "id": "5pdk47a9DtvB",
        "outputId": "fd01e45f-fd70-44cc-8f9a-d910eef1c528"
      },
      "outputs": [
        {
          "output_type": "execute_result",
          "data": {
            "text/plain": [
              "23931"
            ]
          },
          "metadata": {},
          "execution_count": 33
        }
      ],
      "source": [
        "# filtering outlier for column: 'bal_after_trans'\n",
        "bal_after_trans=df_res.loc[(df_res['bal_after_trans'] > upper)|(df_res['bal_after_trans'] < lower)]\n",
        "len(bal_after_trans)"
      ]
    },
    {
      "cell_type": "code",
      "execution_count": 34,
      "metadata": {
        "id": "3D6QmoYrDtr9"
      },
      "outputs": [],
      "source": [
        "# capping outlier for column: 'bal_after_trans'\n",
        "df_res.loc[(df_res['bal_after_trans']>upper),'bal_after_trans']=upper\n",
        "df_res.loc[(df['bal_after_trans']<lower),'bal_after_trans']=lower"
      ]
    },
    {
      "cell_type": "code",
      "execution_count": 35,
      "metadata": {
        "colab": {
          "base_uri": "https://localhost:8080/",
          "height": 450
        },
        "id": "IvXwzxS1DtoQ",
        "outputId": "fa684107-27c5-44ed-e8d8-cb1549102618"
      },
      "outputs": [
        {
          "output_type": "execute_result",
          "data": {
            "text/plain": [
              "Text(0.5, 1.0, 'bal_after_trans')"
            ]
          },
          "metadata": {},
          "execution_count": 35
        },
        {
          "output_type": "display_data",
          "data": {
            "text/plain": [
              "<Figure size 640x480 with 1 Axes>"
            ],
            "image/png": "[encoded data removed]"
          },
          "metadata": {}
        }
      ],
      "source": [
        "\n",
        "# revisualization of outlier for column: 'bal_after_trans'\n",
        "sns.boxplot(df_res['bal_after_trans'])\n",
        "plt.title('bal_after_trans')"
      ]
    },
    {
      "cell_type": "code",
      "execution_count": 35,
      "metadata": {
        "id": "PBaiVKB3Dtkf"
      },
      "outputs": [],
      "source": []
    },
    {
      "cell_type": "code",
      "execution_count": 36,
      "metadata": {
        "colab": {
          "base_uri": "https://localhost:8080/"
        },
        "id": "nkWghW4kDtgt",
        "outputId": "1d4bc016-6ce7-4785-83eb-60de4efc3eaf"
      },
      "outputs": [
        {
          "output_type": "execute_result",
          "data": {
            "text/plain": [
              "(1666728.1375000002, -1000036.8825000001)"
            ]
          },
          "metadata": {},
          "execution_count": 36
        }
      ],
      "source": [
        "# determining the upper and lower bound for column: 'bal_before_trans_recip'\n",
        "q1=df_res['bal_before_trans_recip'].quantile(0.25)\n",
        "q3=df_res['bal_before_trans_recip'].quantile(0.75)\n",
        "iqr=q3-q1\n",
        "upper=q3+1.5*iqr\n",
        "lower=q1-1.5*iqr\n",
        "upper,lower # determining the upper and lower band using inter_quartile method"
      ]
    },
    {
      "cell_type": "code",
      "execution_count": 37,
      "metadata": {
        "colab": {
          "base_uri": "https://localhost:8080/"
        },
        "id": "s1W3LwNsNccT",
        "outputId": "019018ec-9cb0-403c-d46b-fe23a4b676ed"
      },
      "outputs": [
        {
          "output_type": "execute_result",
          "data": {
            "text/plain": [
              "18899"
            ]
          },
          "metadata": {},
          "execution_count": 37
        }
      ],
      "source": [
        "# filtering outlier for column: 'bal_before_trans_recip'\n",
        "bal_before_trans_recip=df_res.loc[(df_res['bal_before_trans_recip'] > upper)|(df_res['bal_before_trans_recip'] < lower)]\n",
        "len(bal_before_trans_recip)"
      ]
    },
    {
      "cell_type": "code",
      "execution_count": 38,
      "metadata": {
        "id": "0gURCx72Nhh6"
      },
      "outputs": [],
      "source": [
        "# capping outlier for column: 'bal_before_trans_recip'\n",
        "df_res.loc[(df_res['bal_before_trans_recip']>upper),'bal_before_trans_recip']=upper\n",
        "df_res.loc[(df_res['bal_before_trans_recip']<lower),'bal_before_trans_recip']=lower"
      ]
    },
    {
      "cell_type": "code",
      "execution_count": 39,
      "metadata": {
        "colab": {
          "base_uri": "https://localhost:8080/",
          "height": 450
        },
        "id": "y89O0KAgNcX3",
        "outputId": "0c40b406-f7d5-4711-a937-1036b3bf8b04"
      },
      "outputs": [
        {
          "output_type": "execute_result",
          "data": {
            "text/plain": [
              "Text(0.5, 1.0, 'bal_before_trans_recip')"
            ]
          },
          "metadata": {},
          "execution_count": 39
        },
        {
          "output_type": "display_data",
          "data": {
            "text/plain": [
              "<Figure size 640x480 with 1 Axes>"
            ],
            "image/png": "[encoded data removed]"
          },
          "metadata": {}
        }
      ],
      "source": [
        "# revisualizing column: 'bal_before_trans_recip'\n",
        "sns.boxplot(df_res['bal_before_trans_recip'])\n",
        "plt.title('bal_before_trans_recip')"
      ]
    },
    {
      "cell_type": "code",
      "execution_count": 39,
      "metadata": {
        "id": "Fkvdpra2NcVM"
      },
      "outputs": [],
      "source": []
    },
    {
      "cell_type": "code",
      "execution_count": 40,
      "metadata": {
        "colab": {
          "base_uri": "https://localhost:8080/"
        },
        "id": "aem6zr-YNcQ2",
        "outputId": "2fbca95e-676b-4f51-b546-bbc60a62a2cb"
      },
      "outputs": [
        {
          "output_type": "execute_result",
          "data": {
            "text/plain": [
              "(2785692.875, -1671415.7249999999)"
            ]
          },
          "metadata": {},
          "execution_count": 40
        }
      ],
      "source": [
        "# determining the upper and lower bound for column: 'bal_before_trans_recip'\n",
        "q1=df_res['bal_after_trans_recip'].quantile(0.25)\n",
        "q3=df_res['bal_after_trans_recip'].quantile(0.75)\n",
        "iqr=q3-q1\n",
        "upper=q3+1.5*iqr\n",
        "lower=q1-1.5*iqr\n",
        "upper,lower # determining the upper and lower band using inter_quartile method"
      ]
    },
    {
      "cell_type": "code",
      "execution_count": 41,
      "metadata": {
        "colab": {
          "base_uri": "https://localhost:8080/"
        },
        "id": "lzDTxglJNcNS",
        "outputId": "b9ae2b35-ed09-459c-a25f-e7c97a3e430c"
      },
      "outputs": [
        {
          "output_type": "execute_result",
          "data": {
            "text/plain": [
              "16543"
            ]
          },
          "metadata": {},
          "execution_count": 41
        }
      ],
      "source": [
        "# filtering outlier for column: 'bal_before_trans_recip'\n",
        "bal_after_trans_recip=df_res.loc[(df_res['bal_after_trans_recip'] > upper)|(df_res['bal_after_trans_recip'] < lower)]\n",
        "len(bal_after_trans_recip)"
      ]
    },
    {
      "cell_type": "code",
      "execution_count": 42,
      "metadata": {
        "id": "mHVuFimnNcJ5"
      },
      "outputs": [],
      "source": [
        "# capping outlier for column: 'bal_before_trans_recip'\n",
        "df_res.loc[(df['bal_after_trans_recip']>upper),'bal_after_trans_recip']=upper\n",
        "df_res.loc[(df['bal_after_trans_recip']<lower),'bal_after_trans_recip']=lower"
      ]
    },
    {
      "cell_type": "code",
      "execution_count": 43,
      "metadata": {
        "colab": {
          "base_uri": "https://localhost:8080/",
          "height": 450
        },
        "id": "7iLCwhlmNcFm",
        "outputId": "6d3bd98f-c42e-4d4a-dc0e-49a5f67a806f"
      },
      "outputs": [
        {
          "output_type": "execute_result",
          "data": {
            "text/plain": [
              "Text(0.5, 1.0, 'bal_after_trans_recip')"
            ]
          },
          "metadata": {},
          "execution_count": 43
        },
        {
          "output_type": "display_data",
          "data": {
            "text/plain": [
              "<Figure size 640x480 with 1 Axes>"
            ],
            "image/png": "[encoded data removed]"
          },
          "metadata": {}
        }
      ],
      "source": [
        "# revisualizing outleir for column: 'bal_after_trans_recip'\n",
        "sns.boxplot(df_res['bal_after_trans_recip'])\n",
        "plt.title('bal_after_trans_recip')"
      ]
    },
    {
      "cell_type": "code",
      "execution_count": 43,
      "metadata": {
        "id": "Nb6qDkbvNcCc"
      },
      "outputs": [],
      "source": []
    },
    {
      "cell_type": "code",
      "execution_count": 44,
      "metadata": {
        "colab": {
          "base_uri": "https://localhost:8080/"
        },
        "id": "uIjDlgDcsLzT",
        "outputId": "cb69f5d4-21a1-4c9e-d68a-3eae0041b6fa"
      },
      "outputs": [
        {
          "output_type": "execute_result",
          "data": {
            "text/plain": [
              "array([0.])"
            ]
          },
          "metadata": {},
          "execution_count": 44
        }
      ],
      "source": [
        "df_res['isFlaggedFraud'].unique() # exploring this column"
      ]
    },
    {
      "cell_type": "code",
      "execution_count": 45,
      "metadata": {
        "colab": {
          "base_uri": "https://localhost:8080/"
        },
        "id": "b5Kql0aysjK-",
        "outputId": "2ad8585e-2fd0-47d0-8b0c-fcc9f7c96345"
      },
      "outputs": [
        {
          "output_type": "execute_result",
          "data": {
            "text/plain": [
              "138115"
            ]
          },
          "metadata": {},
          "execution_count": 45
        }
      ],
      "source": [
        "d=df_res[df['isFlaggedFraud']==0]\n",
        "len(d)"
      ]
    },
    {
      "cell_type": "code",
      "execution_count": 46,
      "metadata": {
        "id": "Ph5YabhfRLd-"
      },
      "outputs": [],
      "source": [
        "from sklearn.preprocessing import LabelEncoder\n",
        "le=LabelEncoder()"
      ]
    },
    {
      "cell_type": "code",
      "execution_count": 47,
      "metadata": {
        "id": "_EWKeF5uS1Xf"
      },
      "outputs": [],
      "source": [
        "type_lower=df_res['transaction_type'].str.lower() # converting this column to lower"
      ]
    },
    {
      "cell_type": "code",
      "execution_count": 48,
      "metadata": {
        "id": "bBfXck9gRLTv"
      },
      "outputs": [],
      "source": [
        "df_res['trans_origin']=le.fit_transform(df_res['trans_origin']) # transform object values to numerical values\n",
        "df_res['trans_recipient']=le.fit_transform(df_res['trans_recipient'])\n",
        "df_res['transaction_type']=le.fit_transform(df_res['transaction_type'])"
      ]
    },
    {
      "cell_type": "code",
      "execution_count": 49,
      "metadata": {
        "colab": {
          "base_uri": "https://localhost:8080/",
          "height": 414
        },
        "id": "8k2xHEwyRLQH",
        "outputId": "2a971ba0-3a56-4880-ecc0-32cf6eea420a"
      },
      "outputs": [
        {
          "output_type": "execute_result",
          "data": {
            "text/plain": [
              "                            step  transaction_type  trans_amount  \\\n",
              "step                    1.000000         -0.091272      0.106121   \n",
              "transaction_type       -0.091272          1.000000     -0.165677   \n",
              "trans_amount            0.106121         -0.165677      1.000000   \n",
              "trans_origin           -0.000192          0.000854      0.001022   \n",
              "bal_before_trans        0.000823         -0.334596      0.005636   \n",
              "bal_after_trans         0.005112         -0.439766      0.000462   \n",
              "trans_recipient        -0.087459          0.585785     -0.520581   \n",
              "bal_before_trans_recip  0.077016         -0.323985      0.456811   \n",
              "bal_after_trans_recip   0.072392         -0.213734      0.551499   \n",
              "isFraud                -0.050135          0.014289      0.005746   \n",
              "isFlaggedFraud               NaN               NaN           NaN   \n",
              "\n",
              "                        trans_origin  bal_before_trans  bal_after_trans  \\\n",
              "step                       -0.000192          0.000823         0.005112   \n",
              "transaction_type            0.000854         -0.334596        -0.439766   \n",
              "trans_amount                0.001022          0.005636         0.000462   \n",
              "trans_origin                1.000000         -0.002399        -0.003083   \n",
              "bal_before_trans           -0.002399          1.000000         0.924107   \n",
              "bal_after_trans            -0.003083          0.924107         1.000000   \n",
              "trans_recipient             0.002081         -0.116299        -0.137114   \n",
              "bal_before_trans_recip      0.002043          0.130810         0.128415   \n",
              "bal_after_trans_recip       0.002545          0.044357         0.011126   \n",
              "isFraud                    -0.002929          0.003056        -0.018047   \n",
              "isFlaggedFraud                   NaN               NaN              NaN   \n",
              "\n",
              "                        trans_recipient  bal_before_trans_recip  \\\n",
              "step                          -0.087459                0.077016   \n",
              "transaction_type               0.585785               -0.323985   \n",
              "trans_amount                  -0.520581                0.456811   \n",
              "trans_origin                   0.002081                0.002043   \n",
              "bal_before_trans              -0.116299                0.130810   \n",
              "bal_after_trans               -0.137114                0.128415   \n",
              "trans_recipient                1.000000               -0.463966   \n",
              "bal_before_trans_recip        -0.463966                1.000000   \n",
              "bal_after_trans_recip         -0.468808                0.883822   \n",
              "isFraud                       -0.018664               -0.016316   \n",
              "isFlaggedFraud                      NaN                     NaN   \n",
              "\n",
              "                        bal_after_trans_recip   isFraud  isFlaggedFraud  \n",
              "step                                 0.072392 -0.050135             NaN  \n",
              "transaction_type                    -0.213734  0.014289             NaN  \n",
              "trans_amount                         0.551499  0.005746             NaN  \n",
              "trans_origin                         0.002545 -0.002929             NaN  \n",
              "bal_before_trans                     0.044357  0.003056             NaN  \n",
              "bal_after_trans                      0.011126 -0.018047             NaN  \n",
              "trans_recipient                     -0.468808 -0.018664             NaN  \n",
              "bal_before_trans_recip               0.883822 -0.016316             NaN  \n",
              "bal_after_trans_recip                1.000000 -0.010061             NaN  \n",
              "isFraud                             -0.010061  1.000000             NaN  \n",
              "isFlaggedFraud                            NaN       NaN             NaN  "
            ],
            "text/html": [
              "\n",
              "  <div id=\"df-9a592524-ae06-4d20-92eb-4bb45786f1aa\" class=\"colab-df-container\">\n",
              "    <div>\n",
              "<style scoped>\n",
              "    .dataframe tbody tr th:only-of-type {\n",
              "        vertical-align: middle;\n",
              "    }\n",
              "\n",
              "    .dataframe tbody tr th {\n",
              "        vertical-align: top;\n",
              "    }\n",
              "\n",
              "    .dataframe thead th {\n",
              "        text-align: right;\n",
              "    }\n",
              "</style>\n",
              "<table border=\"1\" class=\"dataframe\">\n",
              "  <thead>\n",
              "    <tr style=\"text-align: right;\">\n",
              "      <th></th>\n",
              "      <th>step</th>\n",
              "      <th>transaction_type</th>\n",
              "      <th>trans_amount</th>\n",
              "      <th>trans_origin</th>\n",
              "      <th>bal_before_trans</th>\n",
              "      <th>bal_after_trans</th>\n",
              "      <th>trans_recipient</th>\n",
              "      <th>bal_before_trans_recip</th>\n",
              "      <th>bal_after_trans_recip</th>\n",
              "      <th>isFraud</th>\n",
              "      <th>isFlaggedFraud</th>\n",
              "    </tr>\n",
              "  </thead>\n",
              "  <tbody>\n",
              "    <tr>\n",
              "      <th>step</th>\n",
              "      <td>1.000000</td>\n",
              "      <td>-0.091272</td>\n",
              "      <td>0.106121</td>\n",
              "      <td>-0.000192</td>\n",
              "      <td>0.000823</td>\n",
              "      <td>0.005112</td>\n",
              "      <td>-0.087459</td>\n",
              "      <td>0.077016</td>\n",
              "      <td>0.072392</td>\n",
              "      <td>-0.050135</td>\n",
              "      <td>NaN</td>\n",
              "    </tr>\n",
              "    <tr>\n",
              "      <th>transaction_type</th>\n",
              "      <td>-0.091272</td>\n",
              "      <td>1.000000</td>\n",
              "      <td>-0.165677</td>\n",
              "      <td>0.000854</td>\n",
              "      <td>-0.334596</td>\n",
              "      <td>-0.439766</td>\n",
              "      <td>0.585785</td>\n",
              "      <td>-0.323985</td>\n",
              "      <td>-0.213734</td>\n",
              "      <td>0.014289</td>\n",
              "      <td>NaN</td>\n",
              "    </tr>\n",
              "    <tr>\n",
              "      <th>trans_amount</th>\n",
              "      <td>0.106121</td>\n",
              "      <td>-0.165677</td>\n",
              "      <td>1.000000</td>\n",
              "      <td>0.001022</td>\n",
              "      <td>0.005636</td>\n",
              "      <td>0.000462</td>\n",
              "      <td>-0.520581</td>\n",
              "      <td>0.456811</td>\n",
              "      <td>0.551499</td>\n",
              "      <td>0.005746</td>\n",
              "      <td>NaN</td>\n",
              "    </tr>\n",
              "    <tr>\n",
              "      <th>trans_origin</th>\n",
              "      <td>-0.000192</td>\n",
              "      <td>0.000854</td>\n",
              "      <td>0.001022</td>\n",
              "      <td>1.000000</td>\n",
              "      <td>-0.002399</td>\n",
              "      <td>-0.003083</td>\n",
              "      <td>0.002081</td>\n",
              "      <td>0.002043</td>\n",
              "      <td>0.002545</td>\n",
              "      <td>-0.002929</td>\n",
              "      <td>NaN</td>\n",
              "    </tr>\n",
              "    <tr>\n",
              "      <th>bal_before_trans</th>\n",
              "      <td>0.000823</td>\n",
              "      <td>-0.334596</td>\n",
              "      <td>0.005636</td>\n",
              "      <td>-0.002399</td>\n",
              "      <td>1.000000</td>\n",
              "      <td>0.924107</td>\n",
              "      <td>-0.116299</td>\n",
              "      <td>0.130810</td>\n",
              "      <td>0.044357</td>\n",
              "      <td>0.003056</td>\n",
              "      <td>NaN</td>\n",
              "    </tr>\n",
              "    <tr>\n",
              "      <th>bal_after_trans</th>\n",
              "      <td>0.005112</td>\n",
              "      <td>-0.439766</td>\n",
              "      <td>0.000462</td>\n",
              "      <td>-0.003083</td>\n",
              "      <td>0.924107</td>\n",
              "      <td>1.000000</td>\n",
              "      <td>-0.137114</td>\n",
              "      <td>0.128415</td>\n",
              "      <td>0.011126</td>\n",
              "      <td>-0.018047</td>\n",
              "      <td>NaN</td>\n",
              "    </tr>\n",
              "    <tr>\n",
              "      <th>trans_recipient</th>\n",
              "      <td>-0.087459</td>\n",
              "      <td>0.585785</td>\n",
              "      <td>-0.520581</td>\n",
              "      <td>0.002081</td>\n",
              "      <td>-0.116299</td>\n",
              "      <td>-0.137114</td>\n",
              "      <td>1.000000</td>\n",
              "      <td>-0.463966</td>\n",
              "      <td>-0.468808</td>\n",
              "      <td>-0.018664</td>\n",
              "      <td>NaN</td>\n",
              "    </tr>\n",
              "    <tr>\n",
              "      <th>bal_before_trans_recip</th>\n",
              "      <td>0.077016</td>\n",
              "      <td>-0.323985</td>\n",
              "      <td>0.456811</td>\n",
              "      <td>0.002043</td>\n",
              "      <td>0.130810</td>\n",
              "      <td>0.128415</td>\n",
              "      <td>-0.463966</td>\n",
              "      <td>1.000000</td>\n",
              "      <td>0.883822</td>\n",
              "      <td>-0.016316</td>\n",
              "      <td>NaN</td>\n",
              "    </tr>\n",
              "    <tr>\n",
              "      <th>bal_after_trans_recip</th>\n",
              "      <td>0.072392</td>\n",
              "      <td>-0.213734</td>\n",
              "      <td>0.551499</td>\n",
              "      <td>0.002545</td>\n",
              "      <td>0.044357</td>\n",
              "      <td>0.011126</td>\n",
              "      <td>-0.468808</td>\n",
              "      <td>0.883822</td>\n",
              "      <td>1.000000</td>\n",
              "      <td>-0.010061</td>\n",
              "      <td>NaN</td>\n",
              "    </tr>\n",
              "    <tr>\n",
              "      <th>isFraud</th>\n",
              "      <td>-0.050135</td>\n",
              "      <td>0.014289</td>\n",
              "      <td>0.005746</td>\n",
              "      <td>-0.002929</td>\n",
              "      <td>0.003056</td>\n",
              "      <td>-0.018047</td>\n",
              "      <td>-0.018664</td>\n",
              "      <td>-0.016316</td>\n",
              "      <td>-0.010061</td>\n",
              "      <td>1.000000</td>\n",
              "      <td>NaN</td>\n",
              "    </tr>\n",
              "    <tr>\n",
              "      <th>isFlaggedFraud</th>\n",
              "      <td>NaN</td>\n",
              "      <td>NaN</td>\n",
              "      <td>NaN</td>\n",
              "      <td>NaN</td>\n",
              "      <td>NaN</td>\n",
              "      <td>NaN</td>\n",
              "      <td>NaN</td>\n",
              "      <td>NaN</td>\n",
              "      <td>NaN</td>\n",
              "      <td>NaN</td>\n",
              "      <td>NaN</td>\n",
              "    </tr>\n",
              "  </tbody>\n",
              "</table>\n",
              "</div>\n",
              "    <div class=\"colab-df-buttons\">\n",
              "\n",
              "  <div class=\"colab-df-container\">\n",
              "    <button class=\"colab-df-convert\" onclick=\"convertToInteractive('df-9a592524-ae06-4d20-92eb-4bb45786f1aa')\"\n",
              "            title=\"Convert this dataframe to an interactive table.\"\n",
              "            style=\"display:none;\">\n",
              "\n",
              "  <svg xmlns=\"http://www.w3.org/2000/svg\" height=\"24px\" viewBox=\"0 -960 960 960\">\n",
              "    <path d=\"M120-120v-720h720v720H120Zm60-500h600v-160H180v160Zm220 220h160v-160H400v160Zm0 220h160v-160H400v160ZM180-400h160v-160H180v160Zm440 0h160v-160H620v160ZM180-180h160v-160H180v160Zm440 0h160v-160H620v160Z\"/>\n",
              "  </svg>\n",
              "    </button>\n",
              "\n",
              "  <style>\n",
              "    .colab-df-container {\n",
              "      display:flex;\n",
              "      gap: 12px;\n",
              "    }\n",
              "\n",
              "    .colab-df-convert {\n",
              "      background-color: #E8F0FE;\n",
              "      border: none;\n",
              "      border-radius: 50%;\n",
              "      cursor: pointer;\n",
              "      display: none;\n",
              "      fill: #1967D2;\n",
              "      height: 32px;\n",
              "      padding: 0 0 0 0;\n",
              "      width: 32px;\n",
              "    }\n",
              "\n",
              "    .colab-df-convert:hover {\n",
              "      background-color: #E2EBFA;\n",
              "      box-shadow: 0px 1px 2px rgba(60, 64, 67, 0.3), 0px 1px 3px 1px rgba(60, 64, 67, 0.15);\n",
              "      fill: #174EA6;\n",
              "    }\n",
              "\n",
              "    .colab-df-buttons div {\n",
              "      margin-bottom: 4px;\n",
              "    }\n",
              "\n",
              "    [theme=dark] .colab-df-convert {\n",
              "      background-color: #3B4455;\n",
              "      fill: #D2E3FC;\n",
              "    }\n",
              "\n",
              "    [theme=dark] .colab-df-convert:hover {\n",
              "      background-color: #434B5C;\n",
              "      box-shadow: 0px 1px 3px 1px rgba(0, 0, 0, 0.15);\n",
              "      filter: drop-shadow(0px 1px 2px rgba(0, 0, 0, 0.3));\n",
              "      fill: #FFFFFF;\n",
              "    }\n",
              "  </style>\n",
              "\n",
              "    <script>\n",
              "      const buttonEl =\n",
              "        document.querySelector('#df-9a592524-ae06-4d20-92eb-4bb45786f1aa button.colab-df-convert');\n",
              "      buttonEl.style.display =\n",
              "        google.colab.kernel.accessAllowed ? 'block' : 'none';\n",
              "\n",
              "      async function convertToInteractive(key) {\n",
              "        const element = document.querySelector('#df-9a592524-ae06-4d20-92eb-4bb45786f1aa');\n",
              "        const dataTable =\n",
              "          await google.colab.kernel.invokeFunction('convertToInteractive',\n",
              "                                                    [key], {});\n",
              "        if (!dataTable) return;\n",
              "\n",
              "        const docLinkHtml = 'Like what you see? Visit the ' +\n",
              "          '<a target=\"_blank\" href=https://colab.research.google.com/notebooks/data_table.ipynb>data table notebook</a>'\n",
              "          + ' to learn more about interactive tables.';\n",
              "        element.innerHTML = '';\n",
              "        dataTable['output_type'] = 'display_data';\n",
              "        await google.colab.output.renderOutput(dataTable, element);\n",
              "        const docLink = document.createElement('div');\n",
              "        docLink.innerHTML = docLinkHtml;\n",
              "        element.appendChild(docLink);\n",
              "      }\n",
              "    </script>\n",
              "  </div>\n",
              "\n",
              "\n",
              "<div id=\"df-dd22bba4-d3c4-45e2-a285-3c482261622f\">\n",
              "  <button class=\"colab-df-quickchart\" onclick=\"quickchart('df-dd22bba4-d3c4-45e2-a285-3c482261622f')\"\n",
              "            title=\"Suggest charts\"\n",
              "            style=\"display:none;\">\n",
              "\n",
              "<svg xmlns=\"http://www.w3.org/2000/svg\" height=\"24px\"viewBox=\"0 0 24 24\"\n",
              "     width=\"24px\">\n",
              "    <g>\n",
              "        <path d=\"M19 3H5c-1.1 0-2 .9-2 2v14c0 1.1.9 2 2 2h14c1.1 0 2-.9 2-2V5c0-1.1-.9-2-2-2zM9 17H7v-7h2v7zm4 0h-2V7h2v10zm4 0h-2v-4h2v4z\"/>\n",
              "    </g>\n",
              "</svg>\n",
              "  </button>\n",
              "\n",
              "<style>\n",
              "  .colab-df-quickchart {\n",
              "      --bg-color: #E8F0FE;\n",
              "      --fill-color: #1967D2;\n",
              "      --hover-bg-color: #E2EBFA;\n",
              "      --hover-fill-color: #174EA6;\n",
              "      --disabled-fill-color: #AAA;\n",
              "      --disabled-bg-color: #DDD;\n",
              "  }\n",
              "\n",
              "  [theme=dark] .colab-df-quickchart {\n",
              "      --bg-color: #3B4455;\n",
              "      --fill-color: #D2E3FC;\n",
              "      --hover-bg-color: #434B5C;\n",
              "      --hover-fill-color: #FFFFFF;\n",
              "      --disabled-bg-color: #3B4455;\n",
              "      --disabled-fill-color: #666;\n",
              "  }\n",
              "\n",
              "  .colab-df-quickchart {\n",
              "    background-color: var(--bg-color);\n",
              "    border: none;\n",
              "    border-radius: 50%;\n",
              "    cursor: pointer;\n",
              "    display: none;\n",
              "    fill: var(--fill-color);\n",
              "    height: 32px;\n",
              "    padding: 0;\n",
              "    width: 32px;\n",
              "  }\n",
              "\n",
              "  .colab-df-quickchart:hover {\n",
              "    background-color: var(--hover-bg-color);\n",
              "    box-shadow: 0 1px 2px rgba(60, 64, 67, 0.3), 0 1px 3px 1px rgba(60, 64, 67, 0.15);\n",
              "    fill: var(--button-hover-fill-color);\n",
              "  }\n",
              "\n",
              "  .colab-df-quickchart-complete:disabled,\n",
              "  .colab-df-quickchart-complete:disabled:hover {\n",
              "    background-color: var(--disabled-bg-color);\n",
              "    fill: var(--disabled-fill-color);\n",
              "    box-shadow: none;\n",
              "  }\n",
              "\n",
              "  .colab-df-spinner {\n",
              "    border: 2px solid var(--fill-color);\n",
              "    border-color: transparent;\n",
              "    border-bottom-color: var(--fill-color);\n",
              "    animation:\n",
              "      spin 1s steps(1) infinite;\n",
              "  }\n",
              "\n",
              "  @keyframes spin {\n",
              "    0% {\n",
              "      border-color: transparent;\n",
              "      border-bottom-color: var(--fill-color);\n",
              "      border-left-color: var(--fill-color);\n",
              "    }\n",
              "    20% {\n",
              "      border-color: transparent;\n",
              "      border-left-color: var(--fill-color);\n",
              "      border-top-color: var(--fill-color);\n",
              "    }\n",
              "    30% {\n",
              "      border-color: transparent;\n",
              "      border-left-color: var(--fill-color);\n",
              "      border-top-color: var(--fill-color);\n",
              "      border-right-color: var(--fill-color);\n",
              "    }\n",
              "    40% {\n",
              "      border-color: transparent;\n",
              "      border-right-color: var(--fill-color);\n",
              "      border-top-color: var(--fill-color);\n",
              "    }\n",
              "    60% {\n",
              "      border-color: transparent;\n",
              "      border-right-color: var(--fill-color);\n",
              "    }\n",
              "    80% {\n",
              "      border-color: transparent;\n",
              "      border-right-color: var(--fill-color);\n",
              "      border-bottom-color: var(--fill-color);\n",
              "    }\n",
              "    90% {\n",
              "      border-color: transparent;\n",
              "      border-bottom-color: var(--fill-color);\n",
              "    }\n",
              "  }\n",
              "</style>\n",
              "\n",
              "  <script>\n",
              "    async function quickchart(key) {\n",
              "      const quickchartButtonEl =\n",
              "        document.querySelector('#' + key + ' button');\n",
              "      quickchartButtonEl.disabled = true;  // To prevent multiple clicks.\n",
              "      quickchartButtonEl.classList.add('colab-df-spinner');\n",
              "      try {\n",
              "        const charts = await google.colab.kernel.invokeFunction(\n",
              "            'suggestCharts', [key], {});\n",
              "      } catch (error) {\n",
              "        console.error('Error during call to suggestCharts:', error);\n",
              "      }\n",
              "      quickchartButtonEl.classList.remove('colab-df-spinner');\n",
              "      quickchartButtonEl.classList.add('colab-df-quickchart-complete');\n",
              "    }\n",
              "    (() => {\n",
              "      let quickchartButtonEl =\n",
              "        document.querySelector('#df-dd22bba4-d3c4-45e2-a285-3c482261622f button');\n",
              "      quickchartButtonEl.style.display =\n",
              "        google.colab.kernel.accessAllowed ? 'block' : 'none';\n",
              "    })();\n",
              "  </script>\n",
              "</div>\n",
              "\n",
              "  <div id=\"id_ef223261-43ea-4899-b839-d790ad4bd6e0\">\n",
              "    <style>\n",
              "      .colab-df-generate {\n",
              "        background-color: #E8F0FE;\n",
              "        border: none;\n",
              "        border-radius: 50%;\n",
              "        cursor: pointer;\n",
              "        display: none;\n",
              "        fill: #1967D2;\n",
              "        height: 32px;\n",
              "        padding: 0 0 0 0;\n",
              "        width: 32px;\n",
              "      }\n",
              "\n",
              "      .colab-df-generate:hover {\n",
              "        background-color: #E2EBFA;\n",
              "        box-shadow: 0px 1px 2px rgba(60, 64, 67, 0.3), 0px 1px 3px 1px rgba(60, 64, 67, 0.15);\n",
              "        fill: #174EA6;\n",
              "      }\n",
              "\n",
              "      [theme=dark] .colab-df-generate {\n",
              "        background-color: #3B4455;\n",
              "        fill: #D2E3FC;\n",
              "      }\n",
              "\n",
              "      [theme=dark] .colab-df-generate:hover {\n",
              "        background-color: #434B5C;\n",
              "        box-shadow: 0px 1px 3px 1px rgba(0, 0, 0, 0.15);\n",
              "        filter: drop-shadow(0px 1px 2px rgba(0, 0, 0, 0.3));\n",
              "        fill: #FFFFFF;\n",
              "      }\n",
              "    </style>\n",
              "    <button class=\"colab-df-generate\" onclick=\"generateWithVariable('df2_corr')\"\n",
              "            title=\"Generate code using this dataframe.\"\n",
              "            style=\"display:none;\">\n",
              "\n",
              "  <svg xmlns=\"http://www.w3.org/2000/svg\" height=\"24px\"viewBox=\"0 0 24 24\"\n",
              "       width=\"24px\">\n",
              "    <path d=\"M7,19H8.4L18.45,9,17,7.55,7,17.6ZM5,21V16.75L18.45,3.32a2,2,0,0,1,2.83,0l1.4,1.43a1.91,1.91,0,0,1,.58,1.4,1.91,1.91,0,0,1-.58,1.4L9.25,21ZM18.45,9,17,7.55Zm-12,3A5.31,5.31,0,0,0,4.9,8.1,5.31,5.31,0,0,0,1,6.5,5.31,5.31,0,0,0,4.9,4.9,5.31,5.31,0,0,0,6.5,1,5.31,5.31,0,0,0,8.1,4.9,5.31,5.31,0,0,0,12,6.5,5.46,5.46,0,0,0,6.5,12Z\"/>\n",
              "  </svg>\n",
              "    </button>\n",
              "    <script>\n",
              "      (() => {\n",
              "      const buttonEl =\n",
              "        document.querySelector('#id_ef223261-43ea-4899-b839-d790ad4bd6e0 button.colab-df-generate');\n",
              "      buttonEl.style.display =\n",
              "        google.colab.kernel.accessAllowed ? 'block' : 'none';\n",
              "\n",
              "      buttonEl.onclick = () => {\n",
              "        google.colab.notebook.generateWithVariable('df2_corr');\n",
              "      }\n",
              "      })();\n",
              "    </script>\n",
              "  </div>\n",
              "\n",
              "    </div>\n",
              "  </div>\n"
            ],
            "application/vnd.google.colaboratory.intrinsic+json": {
              "type": "dataframe",
              "variable_name": "df2_corr",
              "summary": "{\n  \"name\": \"df2_corr\",\n  \"rows\": 11,\n  \"fields\": [\n    {\n      \"column\": \"step\",\n      \"properties\": {\n        \"dtype\": \"number\",\n        \"std\": 0.3222089285696923,\n        \"min\": -0.09127209662412607,\n        \"max\": 1.0,\n        \"num_unique_values\": 10,\n        \"samples\": [\n          0.07239170903641656,\n          -0.09127209662412607,\n          0.005111865536662123\n        ],\n        \"semantic_type\": \"\",\n        \"description\": \"\"\n      }\n    },\n    {\n      \"column\": \"transaction_type\",\n      \"properties\": {\n        \"dtype\": \"number\",\n        \"std\": 0.45154352285915605,\n        \"min\": -0.4397656048066162,\n        \"max\": 1.0,\n        \"num_unique_values\": 10,\n        \"samples\": [\n          -0.21373380005874196,\n          1.0,\n          -0.4397656048066162\n        ],\n        \"semantic_type\": \"\",\n        \"description\": \"\"\n      }\n    },\n    {\n      \"column\": \"trans_amount\",\n      \"properties\": {\n        \"dtype\": \"number\",\n        \"std\": 0.42360233084171667,\n        \"min\": -0.5205814553363445,\n        \"max\": 1.0,\n        \"num_unique_values\": 10,\n        \"samples\": [\n          0.5514992499644408,\n          -0.16567725003443298,\n          0.0004619722204568919\n        ],\n        \"semantic_type\": \"\",\n        \"description\": \"\"\n      }\n    },\n    {\n      \"column\": \"trans_origin\",\n      \"properties\": {\n        \"dtype\": \"number\",\n        \"std\": 0.31623690803416526,\n        \"min\": -0.0030828716369918734,\n        \"max\": 1.0,\n        \"num_unique_values\": 10,\n        \"samples\": [\n          0.002544691271809392,\n          0.0008543269232007812,\n          -0.0030828716369918734\n        ],\n        \"semantic_type\": \"\",\n        \"description\": \"\"\n      }\n    },\n    {\n      \"column\": \"bal_before_trans\",\n      \"properties\": {\n        \"dtype\": \"number\",\n        \"std\": 0.4377358133778894,\n        \"min\": -0.33459600508965887,\n        \"max\": 1.0,\n        \"num_unique_values\": 10,\n        \"samples\": [\n          0.0443569174007459,\n          -0.33459600508965887,\n          0.9241071645335409\n        ],\n        \"semantic_type\": \"\",\n        \"description\": \"\"\n      }\n    },\n    {\n      \"column\": \"bal_after_trans\",\n      \"properties\": {\n        \"dtype\": \"number\",\n        \"std\": 0.4554237293637073,\n        \"min\": -0.4397656048066162,\n        \"max\": 1.0,\n        \"num_unique_values\": 10,\n        \"samples\": [\n          0.01112648361187138,\n          -0.4397656048066162,\n          1.0\n        ],\n        \"semantic_type\": \"\",\n        \"description\": \"\"\n      }\n    },\n    {\n      \"column\": \"trans_recipient\",\n      \"properties\": {\n        \"dtype\": \"number\",\n        \"std\": 0.48125511334613297,\n        \"min\": -0.5205814553363445,\n        \"max\": 1.0,\n        \"num_unique_values\": 10,\n        \"samples\": [\n          -0.4688077052294713,\n          0.5857852341832079,\n          -0.13711358941988458\n        ],\n        \"semantic_type\": \"\",\n        \"description\": \"\"\n      }\n    },\n    {\n      \"column\": \"bal_before_trans_recip\",\n      \"properties\": {\n        \"dtype\": \"number\",\n        \"std\": 0.47121838332596944,\n        \"min\": -0.4639663053117595,\n        \"max\": 1.0,\n        \"num_unique_values\": 10,\n        \"samples\": [\n          0.8838216572171046,\n          -0.3239853627726951,\n          0.12841527936701863\n        ],\n        \"semantic_type\": \"\",\n        \"description\": \"\"\n      }\n    },\n    {\n      \"column\": \"bal_after_trans_recip\",\n      \"properties\": {\n        \"dtype\": \"number\",\n        \"std\": 0.4722675723160178,\n        \"min\": -0.4688077052294713,\n        \"max\": 1.0,\n        \"num_unique_values\": 10,\n        \"samples\": [\n          1.0,\n          -0.21373380005874196,\n          0.01112648361187138\n        ],\n        \"semantic_type\": \"\",\n        \"description\": \"\"\n      }\n    },\n    {\n      \"column\": \"isFraud\",\n      \"properties\": {\n        \"dtype\": \"number\",\n        \"std\": 0.3199923949353944,\n        \"min\": -0.0501346829011074,\n        \"max\": 1.0,\n        \"num_unique_values\": 10,\n        \"samples\": [\n          -0.010061182057802279,\n          0.014289415692888422,\n          -0.01804740478823928\n        ],\n        \"semantic_type\": \"\",\n        \"description\": \"\"\n      }\n    },\n    {\n      \"column\": \"isFlaggedFraud\",\n      \"properties\": {\n        \"dtype\": \"number\",\n        \"std\": null,\n        \"min\": null,\n        \"max\": null,\n        \"num_unique_values\": 0,\n        \"samples\": [],\n        \"semantic_type\": \"\",\n        \"description\": \"\"\n      }\n    }\n  ]\n}"
            }
          },
          "metadata": {},
          "execution_count": 49
        }
      ],
      "source": [
        "df2_corr=df_res.corr()\n",
        "df2_corr # checking for correlation"
      ]
    },
    {
      "cell_type": "code",
      "execution_count": 50,
      "metadata": {
        "colab": {
          "base_uri": "https://localhost:8080/",
          "height": 973
        },
        "id": "I6u34NyFTQ9k",
        "outputId": "49fd702b-7253-46e6-f39e-dba2ebe63a4d"
      },
      "outputs": [
        {
          "output_type": "execute_result",
          "data": {
            "text/plain": [
              "<Axes: >"
            ]
          },
          "metadata": {},
          "execution_count": 50
        },
        {
          "output_type": "display_data",
          "data": {
            "text/plain": [
              "<Figure size 1500x1000 with 2 Axes>"
            ],
            "image/png": "[encoded data removed]"
          },
          "metadata": {}
        }
      ],
      "source": [
        "plt.figure(figsize=(15,10))\n",
        "sns.heatmap(df2_corr,annot=True,vmax=1,vmin=-1,cmap='coolwarm') # visualizing correlation"
      ]
    },
    {
      "cell_type": "markdown",
      "metadata": {
        "id": "p59SXuRsZWF2"
      },
      "source": [
        "# Multicollinearity check"
      ]
    },
    {
      "cell_type": "code",
      "execution_count": 51,
      "metadata": {
        "id": "S9W-q_8bWS32"
      },
      "outputs": [],
      "source": [
        "from statsmodels.stats.outliers_influence import variance_inflation_factor\n",
        "def calculate_vif(data):\n",
        "  vif_data=pd.DataFrame()\n",
        "  vif_data['feature']=data.columns\n",
        "  vif_data['VIF']=[variance_inflation_factor(data.values,i) for i in range(data.shape[1])]\n",
        "  return vif_data"
      ]
    },
    {
      "cell_type": "code",
      "execution_count": 52,
      "metadata": {
        "colab": {
          "base_uri": "https://localhost:8080/",
          "height": 394
        },
        "id": "EvnoXz5SVhi0",
        "outputId": "25b3e678-e272-4cd4-f412-1466b0991690"
      },
      "outputs": [
        {
          "output_type": "execute_result",
          "data": {
            "text/plain": [
              "                   feature        VIF\n",
              "5          bal_after_trans  11.652491\n",
              "4         bal_before_trans  10.826798\n",
              "8    bal_after_trans_recip   8.433618\n",
              "0                     step   7.718673\n",
              "7   bal_before_trans_recip   7.607837\n",
              "1         transaction_type   5.701583\n",
              "6          trans_recipient   4.776422\n",
              "3             trans_origin   3.664647\n",
              "2             trans_amount   2.928375\n",
              "9                  isFraud   1.004838\n",
              "10          isFlaggedFraud        NaN"
            ],
            "text/html": [
              "\n",
              "  <div id=\"df-a2774d4e-e2f5-4aa6-addf-deffd9fd5f9a\" class=\"colab-df-container\">\n",
              "    <div>\n",
              "<style scoped>\n",
              "    .dataframe tbody tr th:only-of-type {\n",
              "        vertical-align: middle;\n",
              "    }\n",
              "\n",
              "    .dataframe tbody tr th {\n",
              "        vertical-align: top;\n",
              "    }\n",
              "\n",
              "    .dataframe thead th {\n",
              "        text-align: right;\n",
              "    }\n",
              "</style>\n",
              "<table border=\"1\" class=\"dataframe\">\n",
              "  <thead>\n",
              "    <tr style=\"text-align: right;\">\n",
              "      <th></th>\n",
              "      <th>feature</th>\n",
              "      <th>VIF</th>\n",
              "    </tr>\n",
              "  </thead>\n",
              "  <tbody>\n",
              "    <tr>\n",
              "      <th>5</th>\n",
              "      <td>bal_after_trans</td>\n",
              "      <td>11.652491</td>\n",
              "    </tr>\n",
              "    <tr>\n",
              "      <th>4</th>\n",
              "      <td>bal_before_trans</td>\n",
              "      <td>10.826798</td>\n",
              "    </tr>\n",
              "    <tr>\n",
              "      <th>8</th>\n",
              "      <td>bal_after_trans_recip</td>\n",
              "      <td>8.433618</td>\n",
              "    </tr>\n",
              "    <tr>\n",
              "      <th>0</th>\n",
              "      <td>step</td>\n",
              "      <td>7.718673</td>\n",
              "    </tr>\n",
              "    <tr>\n",
              "      <th>7</th>\n",
              "      <td>bal_before_trans_recip</td>\n",
              "      <td>7.607837</td>\n",
              "    </tr>\n",
              "    <tr>\n",
              "      <th>1</th>\n",
              "      <td>transaction_type</td>\n",
              "      <td>5.701583</td>\n",
              "    </tr>\n",
              "    <tr>\n",
              "      <th>6</th>\n",
              "      <td>trans_recipient</td>\n",
              "      <td>4.776422</td>\n",
              "    </tr>\n",
              "    <tr>\n",
              "      <th>3</th>\n",
              "      <td>trans_origin</td>\n",
              "      <td>3.664647</td>\n",
              "    </tr>\n",
              "    <tr>\n",
              "      <th>2</th>\n",
              "      <td>trans_amount</td>\n",
              "      <td>2.928375</td>\n",
              "    </tr>\n",
              "    <tr>\n",
              "      <th>9</th>\n",
              "      <td>isFraud</td>\n",
              "      <td>1.004838</td>\n",
              "    </tr>\n",
              "    <tr>\n",
              "      <th>10</th>\n",
              "      <td>isFlaggedFraud</td>\n",
              "      <td>NaN</td>\n",
              "    </tr>\n",
              "  </tbody>\n",
              "</table>\n",
              "</div>\n",
              "    <div class=\"colab-df-buttons\">\n",
              "\n",
              "  <div class=\"colab-df-container\">\n",
              "    <button class=\"colab-df-convert\" onclick=\"convertToInteractive('df-a2774d4e-e2f5-4aa6-addf-deffd9fd5f9a')\"\n",
              "            title=\"Convert this dataframe to an interactive table.\"\n",
              "            style=\"display:none;\">\n",
              "\n",
              "  <svg xmlns=\"http://www.w3.org/2000/svg\" height=\"24px\" viewBox=\"0 -960 960 960\">\n",
              "    <path d=\"M120-120v-720h720v720H120Zm60-500h600v-160H180v160Zm220 220h160v-160H400v160Zm0 220h160v-160H400v160ZM180-400h160v-160H180v160Zm440 0h160v-160H620v160ZM180-180h160v-160H180v160Zm440 0h160v-160H620v160Z\"/>\n",
              "  </svg>\n",
              "    </button>\n",
              "\n",
              "  <style>\n",
              "    .colab-df-container {\n",
              "      display:flex;\n",
              "      gap: 12px;\n",
              "    }\n",
              "\n",
              "    .colab-df-convert {\n",
              "      background-color: #E8F0FE;\n",
              "      border: none;\n",
              "      border-radius: 50%;\n",
              "      cursor: pointer;\n",
              "      display: none;\n",
              "      fill: #1967D2;\n",
              "      height: 32px;\n",
              "      padding: 0 0 0 0;\n",
              "      width: 32px;\n",
              "    }\n",
              "\n",
              "    .colab-df-convert:hover {\n",
              "      background-color: #E2EBFA;\n",
              "      box-shadow: 0px 1px 2px rgba(60, 64, 67, 0.3), 0px 1px 3px 1px rgba(60, 64, 67, 0.15);\n",
              "      fill: #174EA6;\n",
              "    }\n",
              "\n",
              "    .colab-df-buttons div {\n",
              "      margin-bottom: 4px;\n",
              "    }\n",
              "\n",
              "    [theme=dark] .colab-df-convert {\n",
              "      background-color: #3B4455;\n",
              "      fill: #D2E3FC;\n",
              "    }\n",
              "\n",
              "    [theme=dark] .colab-df-convert:hover {\n",
              "      background-color: #434B5C;\n",
              "      box-shadow: 0px 1px 3px 1px rgba(0, 0, 0, 0.15);\n",
              "      filter: drop-shadow(0px 1px 2px rgba(0, 0, 0, 0.3));\n",
              "      fill: #FFFFFF;\n",
              "    }\n",
              "  </style>\n",
              "\n",
              "    <script>\n",
              "      const buttonEl =\n",
              "        document.querySelector('#df-a2774d4e-e2f5-4aa6-addf-deffd9fd5f9a button.colab-df-convert');\n",
              "      buttonEl.style.display =\n",
              "        google.colab.kernel.accessAllowed ? 'block' : 'none';\n",
              "\n",
              "      async function convertToInteractive(key) {\n",
              "        const element = document.querySelector('#df-a2774d4e-e2f5-4aa6-addf-deffd9fd5f9a');\n",
              "        const dataTable =\n",
              "          await google.colab.kernel.invokeFunction('convertToInteractive',\n",
              "                                                    [key], {});\n",
              "        if (!dataTable) return;\n",
              "\n",
              "        const docLinkHtml = 'Like what you see? Visit the ' +\n",
              "          '<a target=\"_blank\" href=https://colab.research.google.com/notebooks/data_table.ipynb>data table notebook</a>'\n",
              "          + ' to learn more about interactive tables.';\n",
              "        element.innerHTML = '';\n",
              "        dataTable['output_type'] = 'display_data';\n",
              "        await google.colab.output.renderOutput(dataTable, element);\n",
              "        const docLink = document.createElement('div');\n",
              "        docLink.innerHTML = docLinkHtml;\n",
              "        element.appendChild(docLink);\n",
              "      }\n",
              "    </script>\n",
              "  </div>\n",
              "\n",
              "\n",
              "<div id=\"df-98057678-ed3b-462b-bfee-b9d98273afbe\">\n",
              "  <button class=\"colab-df-quickchart\" onclick=\"quickchart('df-98057678-ed3b-462b-bfee-b9d98273afbe')\"\n",
              "            title=\"Suggest charts\"\n",
              "            style=\"display:none;\">\n",
              "\n",
              "<svg xmlns=\"http://www.w3.org/2000/svg\" height=\"24px\"viewBox=\"0 0 24 24\"\n",
              "     width=\"24px\">\n",
              "    <g>\n",
              "        <path d=\"M19 3H5c-1.1 0-2 .9-2 2v14c0 1.1.9 2 2 2h14c1.1 0 2-.9 2-2V5c0-1.1-.9-2-2-2zM9 17H7v-7h2v7zm4 0h-2V7h2v10zm4 0h-2v-4h2v4z\"/>\n",
              "    </g>\n",
              "</svg>\n",
              "  </button>\n",
              "\n",
              "<style>\n",
              "  .colab-df-quickchart {\n",
              "      --bg-color: #E8F0FE;\n",
              "      --fill-color: #1967D2;\n",
              "      --hover-bg-color: #E2EBFA;\n",
              "      --hover-fill-color: #174EA6;\n",
              "      --disabled-fill-color: #AAA;\n",
              "      --disabled-bg-color: #DDD;\n",
              "  }\n",
              "\n",
              "  [theme=dark] .colab-df-quickchart {\n",
              "      --bg-color: #3B4455;\n",
              "      --fill-color: #D2E3FC;\n",
              "      --hover-bg-color: #434B5C;\n",
              "      --hover-fill-color: #FFFFFF;\n",
              "      --disabled-bg-color: #3B4455;\n",
              "      --disabled-fill-color: #666;\n",
              "  }\n",
              "\n",
              "  .colab-df-quickchart {\n",
              "    background-color: var(--bg-color);\n",
              "    border: none;\n",
              "    border-radius: 50%;\n",
              "    cursor: pointer;\n",
              "    display: none;\n",
              "    fill: var(--fill-color);\n",
              "    height: 32px;\n",
              "    padding: 0;\n",
              "    width: 32px;\n",
              "  }\n",
              "\n",
              "  .colab-df-quickchart:hover {\n",
              "    background-color: var(--hover-bg-color);\n",
              "    box-shadow: 0 1px 2px rgba(60, 64, 67, 0.3), 0 1px 3px 1px rgba(60, 64, 67, 0.15);\n",
              "    fill: var(--button-hover-fill-color);\n",
              "  }\n",
              "\n",
              "  .colab-df-quickchart-complete:disabled,\n",
              "  .colab-df-quickchart-complete:disabled:hover {\n",
              "    background-color: var(--disabled-bg-color);\n",
              "    fill: var(--disabled-fill-color);\n",
              "    box-shadow: none;\n",
              "  }\n",
              "\n",
              "  .colab-df-spinner {\n",
              "    border: 2px solid var(--fill-color);\n",
              "    border-color: transparent;\n",
              "    border-bottom-color: var(--fill-color);\n",
              "    animation:\n",
              "      spin 1s steps(1) infinite;\n",
              "  }\n",
              "\n",
              "  @keyframes spin {\n",
              "    0% {\n",
              "      border-color: transparent;\n",
              "      border-bottom-color: var(--fill-color);\n",
              "      border-left-color: var(--fill-color);\n",
              "    }\n",
              "    20% {\n",
              "      border-color: transparent;\n",
              "      border-left-color: var(--fill-color);\n",
              "      border-top-color: var(--fill-color);\n",
              "    }\n",
              "    30% {\n",
              "      border-color: transparent;\n",
              "      border-left-color: var(--fill-color);\n",
              "      border-top-color: var(--fill-color);\n",
              "      border-right-color: var(--fill-color);\n",
              "    }\n",
              "    40% {\n",
              "      border-color: transparent;\n",
              "      border-right-color: var(--fill-color);\n",
              "      border-top-color: var(--fill-color);\n",
              "    }\n",
              "    60% {\n",
              "      border-color: transparent;\n",
              "      border-right-color: var(--fill-color);\n",
              "    }\n",
              "    80% {\n",
              "      border-color: transparent;\n",
              "      border-right-color: var(--fill-color);\n",
              "      border-bottom-color: var(--fill-color);\n",
              "    }\n",
              "    90% {\n",
              "      border-color: transparent;\n",
              "      border-bottom-color: var(--fill-color);\n",
              "    }\n",
              "  }\n",
              "</style>\n",
              "\n",
              "  <script>\n",
              "    async function quickchart(key) {\n",
              "      const quickchartButtonEl =\n",
              "        document.querySelector('#' + key + ' button');\n",
              "      quickchartButtonEl.disabled = true;  // To prevent multiple clicks.\n",
              "      quickchartButtonEl.classList.add('colab-df-spinner');\n",
              "      try {\n",
              "        const charts = await google.colab.kernel.invokeFunction(\n",
              "            'suggestCharts', [key], {});\n",
              "      } catch (error) {\n",
              "        console.error('Error during call to suggestCharts:', error);\n",
              "      }\n",
              "      quickchartButtonEl.classList.remove('colab-df-spinner');\n",
              "      quickchartButtonEl.classList.add('colab-df-quickchart-complete');\n",
              "    }\n",
              "    (() => {\n",
              "      let quickchartButtonEl =\n",
              "        document.querySelector('#df-98057678-ed3b-462b-bfee-b9d98273afbe button');\n",
              "      quickchartButtonEl.style.display =\n",
              "        google.colab.kernel.accessAllowed ? 'block' : 'none';\n",
              "    })();\n",
              "  </script>\n",
              "</div>\n",
              "\n",
              "    </div>\n",
              "  </div>\n"
            ],
            "application/vnd.google.colaboratory.intrinsic+json": {
              "type": "dataframe",
              "summary": "{\n  \"name\": \"vif_data\",\n  \"rows\": 11,\n  \"fields\": [\n    {\n      \"column\": \"feature\",\n      \"properties\": {\n        \"dtype\": \"string\",\n        \"num_unique_values\": 11,\n        \"samples\": [\n          \"transaction_type\",\n          \"bal_after_trans\",\n          \"isFraud\"\n        ],\n        \"semantic_type\": \"\",\n        \"description\": \"\"\n      }\n    },\n    {\n      \"column\": \"VIF\",\n      \"properties\": {\n        \"dtype\": \"number\",\n        \"std\": 3.436318113926744,\n        \"min\": 1.0048377091658836,\n        \"max\": 11.652491063121005,\n        \"num_unique_values\": 10,\n        \"samples\": [\n          2.9283752087770685,\n          10.826798477735952,\n          5.701582957371284\n        ],\n        \"semantic_type\": \"\",\n        \"description\": \"\"\n      }\n    }\n  ]\n}"
            }
          },
          "metadata": {},
          "execution_count": 52
        }
      ],
      "source": [
        "vif_data=calculate_vif(df_res)\n",
        "vif_data.sort_values(by='VIF',ascending=False)"
      ]
    },
    {
      "cell_type": "code",
      "execution_count": 53,
      "metadata": {
        "id": "8POJVcT-sqL2"
      },
      "outputs": [],
      "source": [
        "df_res.drop(['step','bal_after_trans','bal_before_trans_recip','isFlaggedFraud'],axis=1,inplace=True)"
      ]
    },
    {
      "cell_type": "code",
      "execution_count": 54,
      "metadata": {
        "id": "g-9XwoOohzmr"
      },
      "outputs": [],
      "source": [
        "# rechecking for high correlation\n",
        "f=df_res.corr()"
      ]
    },
    {
      "cell_type": "code",
      "execution_count": 55,
      "metadata": {
        "colab": {
          "base_uri": "https://localhost:8080/",
          "height": 584
        },
        "id": "5R31e0ywh4pi",
        "outputId": "392ef6a8-fe6d-45b4-ecd6-aab8e1c8c7bd"
      },
      "outputs": [
        {
          "output_type": "execute_result",
          "data": {
            "text/plain": [
              "<Axes: >"
            ]
          },
          "metadata": {},
          "execution_count": 55
        },
        {
          "output_type": "display_data",
          "data": {
            "text/plain": [
              "<Figure size 640x480 with 2 Axes>"
            ],
            "image/png": "[encoded data removed]"
          },
          "metadata": {}
        }
      ],
      "source": [
        "sns.heatmap(f,annot=True,vmax=1,vmin=-1,cmap='coolwarm')"
      ]
    },
    {
      "cell_type": "code",
      "execution_count": 56,
      "metadata": {
        "colab": {
          "base_uri": "https://localhost:8080/",
          "height": 300
        },
        "id": "XAlewS4IVhWr",
        "outputId": "a825a674-fb75-444e-d48c-47dbb96063de"
      },
      "outputs": [
        {
          "output_type": "execute_result",
          "data": {
            "text/plain": [
              "       transaction_type   trans_amount   trans_origin  bal_before_trans  \\\n",
              "count     138115.000000  138115.000000  138115.000000     138115.000000   \n",
              "mean           1.826521  137517.364662   69056.365746     128838.194993   \n",
              "std            1.350232  162925.117211   39870.108757     189540.526654   \n",
              "min            0.000000       0.320000       0.000000          0.000000   \n",
              "25%            1.000000   10889.575000   34528.500000          0.000000   \n",
              "50%            1.000000   60059.550000   69056.000000      20038.000000   \n",
              "75%            3.000000  221085.965000  103584.500000     196309.960000   \n",
              "max            4.000000  536380.550000  138113.000000     490774.900000   \n",
              "\n",
              "       trans_recipient  bal_after_trans_recip        isFraud  \n",
              "count    138115.000000           1.381150e+05  138115.000000  \n",
              "mean      20882.882272           6.898400e+05       0.000883  \n",
              "std       19450.845842           9.889932e+05       0.029708  \n",
              "min           0.000000           0.000000e+00       0.000000  \n",
              "25%        6297.500000           0.000000e+00       0.000000  \n",
              "50%       12649.000000           8.544306e+04       0.000000  \n",
              "75%       33908.500000           1.114277e+06       0.000000  \n",
              "max       68437.000000           2.785693e+06       1.000000  "
            ],
            "text/html": [
              "\n",
              "  <div id=\"df-52028ef8-74cf-4c0b-8c52-6660198d919c\" class=\"colab-df-container\">\n",
              "    <div>\n",
              "<style scoped>\n",
              "    .dataframe tbody tr th:only-of-type {\n",
              "        vertical-align: middle;\n",
              "    }\n",
              "\n",
              "    .dataframe tbody tr th {\n",
              "        vertical-align: top;\n",
              "    }\n",
              "\n",
              "    .dataframe thead th {\n",
              "        text-align: right;\n",
              "    }\n",
              "</style>\n",
              "<table border=\"1\" class=\"dataframe\">\n",
              "  <thead>\n",
              "    <tr style=\"text-align: right;\">\n",
              "      <th></th>\n",
              "      <th>transaction_type</th>\n",
              "      <th>trans_amount</th>\n",
              "      <th>trans_origin</th>\n",
              "      <th>bal_before_trans</th>\n",
              "      <th>trans_recipient</th>\n",
              "      <th>bal_after_trans_recip</th>\n",
              "      <th>isFraud</th>\n",
              "    </tr>\n",
              "  </thead>\n",
              "  <tbody>\n",
              "    <tr>\n",
              "      <th>count</th>\n",
              "      <td>138115.000000</td>\n",
              "      <td>138115.000000</td>\n",
              "      <td>138115.000000</td>\n",
              "      <td>138115.000000</td>\n",
              "      <td>138115.000000</td>\n",
              "      <td>1.381150e+05</td>\n",
              "      <td>138115.000000</td>\n",
              "    </tr>\n",
              "    <tr>\n",
              "      <th>mean</th>\n",
              "      <td>1.826521</td>\n",
              "      <td>137517.364662</td>\n",
              "      <td>69056.365746</td>\n",
              "      <td>128838.194993</td>\n",
              "      <td>20882.882272</td>\n",
              "      <td>6.898400e+05</td>\n",
              "      <td>0.000883</td>\n",
              "    </tr>\n",
              "    <tr>\n",
              "      <th>std</th>\n",
              "      <td>1.350232</td>\n",
              "      <td>162925.117211</td>\n",
              "      <td>39870.108757</td>\n",
              "      <td>189540.526654</td>\n",
              "      <td>19450.845842</td>\n",
              "      <td>9.889932e+05</td>\n",
              "      <td>0.029708</td>\n",
              "    </tr>\n",
              "    <tr>\n",
              "      <th>min</th>\n",
              "      <td>0.000000</td>\n",
              "      <td>0.320000</td>\n",
              "      <td>0.000000</td>\n",
              "      <td>0.000000</td>\n",
              "      <td>0.000000</td>\n",
              "      <td>0.000000e+00</td>\n",
              "      <td>0.000000</td>\n",
              "    </tr>\n",
              "    <tr>\n",
              "      <th>25%</th>\n",
              "      <td>1.000000</td>\n",
              "      <td>10889.575000</td>\n",
              "      <td>34528.500000</td>\n",
              "      <td>0.000000</td>\n",
              "      <td>6297.500000</td>\n",
              "      <td>0.000000e+00</td>\n",
              "      <td>0.000000</td>\n",
              "    </tr>\n",
              "    <tr>\n",
              "      <th>50%</th>\n",
              "      <td>1.000000</td>\n",
              "      <td>60059.550000</td>\n",
              "      <td>69056.000000</td>\n",
              "      <td>20038.000000</td>\n",
              "      <td>12649.000000</td>\n",
              "      <td>8.544306e+04</td>\n",
              "      <td>0.000000</td>\n",
              "    </tr>\n",
              "    <tr>\n",
              "      <th>75%</th>\n",
              "      <td>3.000000</td>\n",
              "      <td>221085.965000</td>\n",
              "      <td>103584.500000</td>\n",
              "      <td>196309.960000</td>\n",
              "      <td>33908.500000</td>\n",
              "      <td>1.114277e+06</td>\n",
              "      <td>0.000000</td>\n",
              "    </tr>\n",
              "    <tr>\n",
              "      <th>max</th>\n",
              "      <td>4.000000</td>\n",
              "      <td>536380.550000</td>\n",
              "      <td>138113.000000</td>\n",
              "      <td>490774.900000</td>\n",
              "      <td>68437.000000</td>\n",
              "      <td>2.785693e+06</td>\n",
              "      <td>1.000000</td>\n",
              "    </tr>\n",
              "  </tbody>\n",
              "</table>\n",
              "</div>\n",
              "    <div class=\"colab-df-buttons\">\n",
              "\n",
              "  <div class=\"colab-df-container\">\n",
              "    <button class=\"colab-df-convert\" onclick=\"convertToInteractive('df-52028ef8-74cf-4c0b-8c52-6660198d919c')\"\n",
              "            title=\"Convert this dataframe to an interactive table.\"\n",
              "            style=\"display:none;\">\n",
              "\n",
              "  <svg xmlns=\"http://www.w3.org/2000/svg\" height=\"24px\" viewBox=\"0 -960 960 960\">\n",
              "    <path d=\"M120-120v-720h720v720H120Zm60-500h600v-160H180v160Zm220 220h160v-160H400v160Zm0 220h160v-160H400v160ZM180-400h160v-160H180v160Zm440 0h160v-160H620v160ZM180-180h160v-160H180v160Zm440 0h160v-160H620v160Z\"/>\n",
              "  </svg>\n",
              "    </button>\n",
              "\n",
              "  <style>\n",
              "    .colab-df-container {\n",
              "      display:flex;\n",
              "      gap: 12px;\n",
              "    }\n",
              "\n",
              "    .colab-df-convert {\n",
              "      background-color: #E8F0FE;\n",
              "      border: none;\n",
              "      border-radius: 50%;\n",
              "      cursor: pointer;\n",
              "      display: none;\n",
              "      fill: #1967D2;\n",
              "      height: 32px;\n",
              "      padding: 0 0 0 0;\n",
              "      width: 32px;\n",
              "    }\n",
              "\n",
              "    .colab-df-convert:hover {\n",
              "      background-color: #E2EBFA;\n",
              "      box-shadow: 0px 1px 2px rgba(60, 64, 67, 0.3), 0px 1px 3px 1px rgba(60, 64, 67, 0.15);\n",
              "      fill: #174EA6;\n",
              "    }\n",
              "\n",
              "    .colab-df-buttons div {\n",
              "      margin-bottom: 4px;\n",
              "    }\n",
              "\n",
              "    [theme=dark] .colab-df-convert {\n",
              "      background-color: #3B4455;\n",
              "      fill: #D2E3FC;\n",
              "    }\n",
              "\n",
              "    [theme=dark] .colab-df-convert:hover {\n",
              "      background-color: #434B5C;\n",
              "      box-shadow: 0px 1px 3px 1px rgba(0, 0, 0, 0.15);\n",
              "      filter: drop-shadow(0px 1px 2px rgba(0, 0, 0, 0.3));\n",
              "      fill: #FFFFFF;\n",
              "    }\n",
              "  </style>\n",
              "\n",
              "    <script>\n",
              "      const buttonEl =\n",
              "        document.querySelector('#df-52028ef8-74cf-4c0b-8c52-6660198d919c button.colab-df-convert');\n",
              "      buttonEl.style.display =\n",
              "        google.colab.kernel.accessAllowed ? 'block' : 'none';\n",
              "\n",
              "      async function convertToInteractive(key) {\n",
              "        const element = document.querySelector('#df-52028ef8-74cf-4c0b-8c52-6660198d919c');\n",
              "        const dataTable =\n",
              "          await google.colab.kernel.invokeFunction('convertToInteractive',\n",
              "                                                    [key], {});\n",
              "        if (!dataTable) return;\n",
              "\n",
              "        const docLinkHtml = 'Like what you see? Visit the ' +\n",
              "          '<a target=\"_blank\" href=https://colab.research.google.com/notebooks/data_table.ipynb>data table notebook</a>'\n",
              "          + ' to learn more about interactive tables.';\n",
              "        element.innerHTML = '';\n",
              "        dataTable['output_type'] = 'display_data';\n",
              "        await google.colab.output.renderOutput(dataTable, element);\n",
              "        const docLink = document.createElement('div');\n",
              "        docLink.innerHTML = docLinkHtml;\n",
              "        element.appendChild(docLink);\n",
              "      }\n",
              "    </script>\n",
              "  </div>\n",
              "\n",
              "\n",
              "<div id=\"df-da75ca3b-dd48-4469-9a24-3321e5f4cac9\">\n",
              "  <button class=\"colab-df-quickchart\" onclick=\"quickchart('df-da75ca3b-dd48-4469-9a24-3321e5f4cac9')\"\n",
              "            title=\"Suggest charts\"\n",
              "            style=\"display:none;\">\n",
              "\n",
              "<svg xmlns=\"http://www.w3.org/2000/svg\" height=\"24px\"viewBox=\"0 0 24 24\"\n",
              "     width=\"24px\">\n",
              "    <g>\n",
              "        <path d=\"M19 3H5c-1.1 0-2 .9-2 2v14c0 1.1.9 2 2 2h14c1.1 0 2-.9 2-2V5c0-1.1-.9-2-2-2zM9 17H7v-7h2v7zm4 0h-2V7h2v10zm4 0h-2v-4h2v4z\"/>\n",
              "    </g>\n",
              "</svg>\n",
              "  </button>\n",
              "\n",
              "<style>\n",
              "  .colab-df-quickchart {\n",
              "      --bg-color: #E8F0FE;\n",
              "      --fill-color: #1967D2;\n",
              "      --hover-bg-color: #E2EBFA;\n",
              "      --hover-fill-color: #174EA6;\n",
              "      --disabled-fill-color: #AAA;\n",
              "      --disabled-bg-color: #DDD;\n",
              "  }\n",
              "\n",
              "  [theme=dark] .colab-df-quickchart {\n",
              "      --bg-color: #3B4455;\n",
              "      --fill-color: #D2E3FC;\n",
              "      --hover-bg-color: #434B5C;\n",
              "      --hover-fill-color: #FFFFFF;\n",
              "      --disabled-bg-color: #3B4455;\n",
              "      --disabled-fill-color: #666;\n",
              "  }\n",
              "\n",
              "  .colab-df-quickchart {\n",
              "    background-color: var(--bg-color);\n",
              "    border: none;\n",
              "    border-radius: 50%;\n",
              "    cursor: pointer;\n",
              "    display: none;\n",
              "    fill: var(--fill-color);\n",
              "    height: 32px;\n",
              "    padding: 0;\n",
              "    width: 32px;\n",
              "  }\n",
              "\n",
              "  .colab-df-quickchart:hover {\n",
              "    background-color: var(--hover-bg-color);\n",
              "    box-shadow: 0 1px 2px rgba(60, 64, 67, 0.3), 0 1px 3px 1px rgba(60, 64, 67, 0.15);\n",
              "    fill: var(--button-hover-fill-color);\n",
              "  }\n",
              "\n",
              "  .colab-df-quickchart-complete:disabled,\n",
              "  .colab-df-quickchart-complete:disabled:hover {\n",
              "    background-color: var(--disabled-bg-color);\n",
              "    fill: var(--disabled-fill-color);\n",
              "    box-shadow: none;\n",
              "  }\n",
              "\n",
              "  .colab-df-spinner {\n",
              "    border: 2px solid var(--fill-color);\n",
              "    border-color: transparent;\n",
              "    border-bottom-color: var(--fill-color);\n",
              "    animation:\n",
              "      spin 1s steps(1) infinite;\n",
              "  }\n",
              "\n",
              "  @keyframes spin {\n",
              "    0% {\n",
              "      border-color: transparent;\n",
              "      border-bottom-color: var(--fill-color);\n",
              "      border-left-color: var(--fill-color);\n",
              "    }\n",
              "    20% {\n",
              "      border-color: transparent;\n",
              "      border-left-color: var(--fill-color);\n",
              "      border-top-color: var(--fill-color);\n",
              "    }\n",
              "    30% {\n",
              "      border-color: transparent;\n",
              "      border-left-color: var(--fill-color);\n",
              "      border-top-color: var(--fill-color);\n",
              "      border-right-color: var(--fill-color);\n",
              "    }\n",
              "    40% {\n",
              "      border-color: transparent;\n",
              "      border-right-color: var(--fill-color);\n",
              "      border-top-color: var(--fill-color);\n",
              "    }\n",
              "    60% {\n",
              "      border-color: transparent;\n",
              "      border-right-color: var(--fill-color);\n",
              "    }\n",
              "    80% {\n",
              "      border-color: transparent;\n",
              "      border-right-color: var(--fill-color);\n",
              "      border-bottom-color: var(--fill-color);\n",
              "    }\n",
              "    90% {\n",
              "      border-color: transparent;\n",
              "      border-bottom-color: var(--fill-color);\n",
              "    }\n",
              "  }\n",
              "</style>\n",
              "\n",
              "  <script>\n",
              "    async function quickchart(key) {\n",
              "      const quickchartButtonEl =\n",
              "        document.querySelector('#' + key + ' button');\n",
              "      quickchartButtonEl.disabled = true;  // To prevent multiple clicks.\n",
              "      quickchartButtonEl.classList.add('colab-df-spinner');\n",
              "      try {\n",
              "        const charts = await google.colab.kernel.invokeFunction(\n",
              "            'suggestCharts', [key], {});\n",
              "      } catch (error) {\n",
              "        console.error('Error during call to suggestCharts:', error);\n",
              "      }\n",
              "      quickchartButtonEl.classList.remove('colab-df-spinner');\n",
              "      quickchartButtonEl.classList.add('colab-df-quickchart-complete');\n",
              "    }\n",
              "    (() => {\n",
              "      let quickchartButtonEl =\n",
              "        document.querySelector('#df-da75ca3b-dd48-4469-9a24-3321e5f4cac9 button');\n",
              "      quickchartButtonEl.style.display =\n",
              "        google.colab.kernel.accessAllowed ? 'block' : 'none';\n",
              "    })();\n",
              "  </script>\n",
              "</div>\n",
              "\n",
              "    </div>\n",
              "  </div>\n"
            ],
            "application/vnd.google.colaboratory.intrinsic+json": {
              "type": "dataframe",
              "summary": "{\n  \"name\": \"df_res\",\n  \"rows\": 8,\n  \"fields\": [\n    {\n      \"column\": \"transaction_type\",\n      \"properties\": {\n        \"dtype\": \"number\",\n        \"std\": 48830.411538904846,\n        \"min\": 0.0,\n        \"max\": 138115.0,\n        \"num_unique_values\": 7,\n        \"samples\": [\n          138115.0,\n          1.8265213771132751,\n          3.0\n        ],\n        \"semantic_type\": \"\",\n        \"description\": \"\"\n      }\n    },\n    {\n      \"column\": \"trans_amount\",\n      \"properties\": {\n        \"dtype\": \"number\",\n        \"std\": 170791.2219865525,\n        \"min\": 0.32,\n        \"max\": 536380.5499999999,\n        \"num_unique_values\": 8,\n        \"samples\": [\n          137517.36466220178,\n          60059.55,\n          138115.0\n        ],\n        \"semantic_type\": \"\",\n        \"description\": \"\"\n      }\n    },\n    {\n      \"column\": \"trans_origin\",\n      \"properties\": {\n        \"dtype\": \"number\",\n        \"std\": 49776.88935770439,\n        \"min\": 0.0,\n        \"max\": 138115.0,\n        \"num_unique_values\": 8,\n        \"samples\": [\n          69056.36574593636,\n          69056.0,\n          138115.0\n        ],\n        \"semantic_type\": \"\",\n        \"description\": \"\"\n      }\n    },\n    {\n      \"column\": \"bal_before_trans\",\n      \"properties\": {\n        \"dtype\": \"number\",\n        \"std\": 161311.289850251,\n        \"min\": 0.0,\n        \"max\": 490774.9000000001,\n        \"num_unique_values\": 7,\n        \"samples\": [\n          138115.0,\n          128838.1949931579,\n          196309.96000000002\n        ],\n        \"semantic_type\": \"\",\n        \"description\": \"\"\n      }\n    },\n    {\n      \"column\": \"trans_recipient\",\n      \"properties\": {\n        \"dtype\": \"number\",\n        \"std\": 45814.354329148955,\n        \"min\": 0.0,\n        \"max\": 138115.0,\n        \"num_unique_values\": 8,\n        \"samples\": [\n          20882.882272019695,\n          12649.0,\n          138115.0\n        ],\n        \"semantic_type\": \"\",\n        \"description\": \"\"\n      }\n    },\n    {\n      \"column\": \"bal_after_trans_recip\",\n      \"properties\": {\n        \"dtype\": \"number\",\n        \"std\": 946696.2754394105,\n        \"min\": 0.0,\n        \"max\": 2785692.875,\n        \"num_unique_values\": 7,\n        \"samples\": [\n          138115.0,\n          689840.0379113419,\n          1114277.15\n        ],\n        \"semantic_type\": \"\",\n        \"description\": \"\"\n      }\n    },\n    {\n      \"column\": \"isFraud\",\n      \"properties\": {\n        \"dtype\": \"number\",\n        \"std\": 48830.97449032448,\n        \"min\": 0.0,\n        \"max\": 138115.0,\n        \"num_unique_values\": 5,\n        \"samples\": [\n          0.0008833218694566122,\n          1.0,\n          0.029707709468748886\n        ],\n        \"semantic_type\": \"\",\n        \"description\": \"\"\n      }\n    }\n  ]\n}"
            }
          },
          "metadata": {},
          "execution_count": 56
        }
      ],
      "source": [
        "df_res.describe() # statistical analysis"
      ]
    },
    {
      "cell_type": "markdown",
      "metadata": {
        "id": "9Q0CZF5fkeAi"
      },
      "source": [
        "# feature selection and scaling"
      ]
    },
    {
      "cell_type": "code",
      "execution_count": 57,
      "metadata": {
        "id": "r4Fig1tgkFPC"
      },
      "outputs": [],
      "source": [
        "# feature selection\n",
        "x=df_res[['transaction_type', 'trans_amount', 'trans_origin', 'bal_before_trans',\n",
        "       'trans_recipient', 'bal_after_trans_recip']]\n",
        "\n",
        "y= df_res['isFraud']\n"
      ]
    },
    {
      "cell_type": "code",
      "execution_count": 58,
      "metadata": {
        "colab": {
          "base_uri": "https://localhost:8080/",
          "height": 178
        },
        "id": "HqH4JjHVf0IK",
        "outputId": "a6e49d12-80e1-44d4-ad93-201755f470bf"
      },
      "outputs": [
        {
          "output_type": "execute_result",
          "data": {
            "text/plain": [
              "isFraud\n",
              "0.0    137993\n",
              "1.0       122\n",
              "Name: count, dtype: int64"
            ],
            "text/html": [
              "<div>\n",
              "<style scoped>\n",
              "    .dataframe tbody tr th:only-of-type {\n",
              "        vertical-align: middle;\n",
              "    }\n",
              "\n",
              "    .dataframe tbody tr th {\n",
              "        vertical-align: top;\n",
              "    }\n",
              "\n",
              "    .dataframe thead th {\n",
              "        text-align: right;\n",
              "    }\n",
              "</style>\n",
              "<table border=\"1\" class=\"dataframe\">\n",
              "  <thead>\n",
              "    <tr style=\"text-align: right;\">\n",
              "      <th></th>\n",
              "      <th>count</th>\n",
              "    </tr>\n",
              "    <tr>\n",
              "      <th>isFraud</th>\n",
              "      <th></th>\n",
              "    </tr>\n",
              "  </thead>\n",
              "  <tbody>\n",
              "    <tr>\n",
              "      <th>0.0</th>\n",
              "      <td>137993</td>\n",
              "    </tr>\n",
              "    <tr>\n",
              "      <th>1.0</th>\n",
              "      <td>122</td>\n",
              "    </tr>\n",
              "  </tbody>\n",
              "</table>\n",
              "</div><br><label><b>dtype:</b> int64</label>"
            ]
          },
          "metadata": {},
          "execution_count": 58
        }
      ],
      "source": [
        "y.value_counts() # exploring the y values"
      ]
    },
    {
      "cell_type": "code",
      "execution_count": 59,
      "metadata": {
        "id": "QDoEKN3gcNMe"
      },
      "outputs": [],
      "source": [
        "from imblearn.over_sampling import SMOTE"
      ]
    },
    {
      "cell_type": "code",
      "execution_count": 60,
      "metadata": {
        "id": "Ho8UhXGpcNHm"
      },
      "outputs": [],
      "source": [
        "smote=SMOTE()\n",
        "x_resampled,y_resampled=smote.fit_resample(x,y)"
      ]
    },
    {
      "cell_type": "code",
      "execution_count": 61,
      "metadata": {
        "id": "gFvjdmCgkcBf"
      },
      "outputs": [],
      "source": [
        "from sklearn.preprocessing import StandardScaler\n",
        "from sklearn.model_selection import train_test_split"
      ]
    },
    {
      "cell_type": "code",
      "execution_count": 62,
      "metadata": {
        "colab": {
          "base_uri": "https://localhost:8080/",
          "height": 178
        },
        "id": "5UP07HoPd5ao",
        "outputId": "aabebfc9-82b4-4bbc-b3f2-703cbab6ed57"
      },
      "outputs": [
        {
          "output_type": "execute_result",
          "data": {
            "text/plain": [
              "isFraud\n",
              "0.0    137993\n",
              "1.0    137993\n",
              "Name: count, dtype: int64"
            ],
            "text/html": [
              "<div>\n",
              "<style scoped>\n",
              "    .dataframe tbody tr th:only-of-type {\n",
              "        vertical-align: middle;\n",
              "    }\n",
              "\n",
              "    .dataframe tbody tr th {\n",
              "        vertical-align: top;\n",
              "    }\n",
              "\n",
              "    .dataframe thead th {\n",
              "        text-align: right;\n",
              "    }\n",
              "</style>\n",
              "<table border=\"1\" class=\"dataframe\">\n",
              "  <thead>\n",
              "    <tr style=\"text-align: right;\">\n",
              "      <th></th>\n",
              "      <th>count</th>\n",
              "    </tr>\n",
              "    <tr>\n",
              "      <th>isFraud</th>\n",
              "      <th></th>\n",
              "    </tr>\n",
              "  </thead>\n",
              "  <tbody>\n",
              "    <tr>\n",
              "      <th>0.0</th>\n",
              "      <td>137993</td>\n",
              "    </tr>\n",
              "    <tr>\n",
              "      <th>1.0</th>\n",
              "      <td>137993</td>\n",
              "    </tr>\n",
              "  </tbody>\n",
              "</table>\n",
              "</div><br><label><b>dtype:</b> int64</label>"
            ]
          },
          "metadata": {},
          "execution_count": 62
        }
      ],
      "source": [
        "re=y_resampled.value_counts()\n",
        "re"
      ]
    },
    {
      "cell_type": "code",
      "execution_count": 63,
      "metadata": {
        "colab": {
          "base_uri": "https://localhost:8080/",
          "height": 445
        },
        "id": "88eouH3YeFET",
        "outputId": "06b169a3-b58f-439e-ea0a-c62589f7af78"
      },
      "outputs": [
        {
          "output_type": "execute_result",
          "data": {
            "text/plain": [
              "Text(0.5, 1.0, 'resampled y')"
            ]
          },
          "metadata": {},
          "execution_count": 63
        },
        {
          "output_type": "display_data",
          "data": {
            "text/plain": [
              "<Figure size 640x480 with 1 Axes>"
            ],
            "image/png": "[encoded data removed]"
          },
          "metadata": {}
        }
      ],
      "source": [
        "# visualizing the resampled y\n",
        "plt.pie(re,autopct='%1.1f%%')\n",
        "plt.title('resampled y')"
      ]
    },
    {
      "cell_type": "code",
      "execution_count": 64,
      "metadata": {
        "id": "T4alaWVUkypz"
      },
      "outputs": [],
      "source": [
        "# splitting the data\n",
        "x_train,x_test,y_train,y_test=train_test_split(x_resampled,y_resampled,test_size=0.3,random_state=42)"
      ]
    },
    {
      "cell_type": "code",
      "execution_count": 65,
      "metadata": {
        "id": "BDJAvSCelHo9"
      },
      "outputs": [],
      "source": [
        "# feature scaling\n",
        "scaler=StandardScaler()\n",
        "x_train_v=scaler.fit_transform(x_train)\n",
        "x_test_v=scaler.transform(x_test)"
      ]
    },
    {
      "cell_type": "code",
      "execution_count": 66,
      "metadata": {
        "id": "CFDhjR1ymAIh"
      },
      "outputs": [],
      "source": [
        "# import machine learning libraries\n",
        "from sklearn.tree import DecisionTreeClassifier\n",
        "from sklearn.neighbors import KNeighborsClassifier\n",
        "from sklearn.ensemble import RandomForestClassifier\n",
        "from sklearn.linear_model import LogisticRegression\n",
        "from sklearn.metrics import accuracy_score,confusion_matrix,classification_report"
      ]
    },
    {
      "cell_type": "code",
      "execution_count": 67,
      "metadata": {
        "id": "ahjBidX4mAuA"
      },
      "outputs": [],
      "source": [
        "# defining the model\n",
        "tree=DecisionTreeClassifier(ccp_alpha=0.002)\n",
        "knn=KNeighborsClassifier(n_neighbors=3)"
      ]
    },
    {
      "cell_type": "code",
      "source": [
        "rf=RandomForestClassifier(ccp_alpha=0.002,n_estimators=100)\n",
        "log=LogisticRegression()"
      ],
      "metadata": {
        "id": "FofjZVtzkB7c"
      },
      "execution_count": 68,
      "outputs": []
    },
    {
      "cell_type": "code",
      "execution_count": 69,
      "metadata": {
        "colab": {
          "base_uri": "https://localhost:8080/"
        },
        "id": "gZ7ZTYSEmFUf",
        "outputId": "6c8c8810-9cc1-4d12-b731-e14533071124"
      },
      "outputs": [
        {
          "output_type": "execute_result",
          "data": {
            "text/plain": [
              "0.9488172265645219"
            ]
          },
          "metadata": {},
          "execution_count": 69
        }
      ],
      "source": [
        "\n",
        "# fitting the model\n",
        "tree.fit(x_train_v,y_train)\n",
        "tree.score(x_train_v,y_train)"
      ]
    },
    {
      "cell_type": "code",
      "execution_count": 70,
      "metadata": {
        "colab": {
          "base_uri": "https://localhost:8080/"
        },
        "id": "5QrMYOiPmSGD",
        "outputId": "37699f5c-4eac-4d55-907f-a6eeb5c6682c"
      },
      "outputs": [
        {
          "output_type": "execute_result",
          "data": {
            "text/plain": [
              "0.9963196852839173"
            ]
          },
          "metadata": {},
          "execution_count": 70
        }
      ],
      "source": [
        "\n",
        "# fitting knn algorithm\n",
        "knn.fit(x_train_v,y_train)\n",
        "knn.score(x_train_v,y_train)"
      ]
    },
    {
      "cell_type": "code",
      "execution_count": 71,
      "metadata": {
        "colab": {
          "base_uri": "https://localhost:8080/"
        },
        "id": "PGZDAujPmwK2",
        "outputId": "2d001f51-499c-45fc-eeb4-c1e8849a13c9"
      },
      "outputs": [
        {
          "output_type": "execute_result",
          "data": {
            "text/plain": [
              "0.963258967855479"
            ]
          },
          "metadata": {},
          "execution_count": 71
        }
      ],
      "source": [
        "# fitting random forest model\n",
        "rf.fit(x_train_v,y_train)\n",
        "rf.score(x_train_v,y_train)"
      ]
    },
    {
      "cell_type": "code",
      "execution_count": 72,
      "metadata": {
        "colab": {
          "base_uri": "https://localhost:8080/"
        },
        "id": "DT3jgQ8gmzM9",
        "outputId": "779f6d91-16db-4cc3-b111-a7c6e570f852"
      },
      "outputs": [
        {
          "output_type": "execute_result",
          "data": {
            "text/plain": [
              "0.7416170609244785"
            ]
          },
          "metadata": {},
          "execution_count": 72
        }
      ],
      "source": [
        "# fitting the losgistic algorithm\n",
        "log.fit(x_train_v,y_train)\n",
        "log.score(x_train_v,y_train)"
      ]
    },
    {
      "cell_type": "markdown",
      "metadata": {
        "id": "RPuke_lInEy8"
      },
      "source": [
        "# model evaluation"
      ]
    },
    {
      "cell_type": "code",
      "execution_count": 73,
      "metadata": {
        "id": "meeB-3qbm3x1"
      },
      "outputs": [],
      "source": [
        "tree_pre=tree.predict(x_test_v)\n",
        "knn_pre=knn.predict(x_test_v)\n"
      ]
    },
    {
      "cell_type": "code",
      "execution_count": 74,
      "metadata": {
        "id": "hhgd4fN8gwxx"
      },
      "outputs": [],
      "source": [
        "rf_pre=rf.predict(x_test_v)\n",
        "log_pre=log.predict(x_test_v)"
      ]
    },
    {
      "cell_type": "code",
      "execution_count": 75,
      "metadata": {
        "colab": {
          "base_uri": "https://localhost:8080/"
        },
        "id": "sSBxNoPsnwol",
        "outputId": "dd800224-040e-48d4-f176-7a20a4bbe416"
      },
      "outputs": [
        {
          "output_type": "stream",
          "name": "stdout",
          "text": [
            "0.9490917435624909\n"
          ]
        }
      ],
      "source": [
        "print(accuracy_score(y_test,tree_pre))\n"
      ]
    },
    {
      "cell_type": "code",
      "execution_count": 76,
      "metadata": {
        "colab": {
          "base_uri": "https://localhost:8080/"
        },
        "id": "1DYFeFPfn636",
        "outputId": "3de3a568-f6dc-4ca4-eb6b-38e5e35ff9dc"
      },
      "outputs": [
        {
          "output_type": "stream",
          "name": "stdout",
          "text": [
            "0.9937557369921253\n"
          ]
        }
      ],
      "source": [
        "print(accuracy_score(y_test,knn_pre))\n"
      ]
    },
    {
      "cell_type": "code",
      "execution_count": 77,
      "metadata": {
        "colab": {
          "base_uri": "https://localhost:8080/"
        },
        "id": "ol7KiKFxn-Oi",
        "outputId": "c10ed85b-34b8-48ea-d92c-5ace97391e7f"
      },
      "outputs": [
        {
          "output_type": "stream",
          "name": "stdout",
          "text": [
            "0.9630900043480362\n"
          ]
        }
      ],
      "source": [
        "print(accuracy_score(y_test,rf_pre))"
      ]
    },
    {
      "cell_type": "code",
      "execution_count": 78,
      "metadata": {
        "colab": {
          "base_uri": "https://localhost:8080/"
        },
        "id": "kmt0l6aJoBb1",
        "outputId": "0dbba821-37a0-4aa9-9517-8fbf8b63fe79"
      },
      "outputs": [
        {
          "output_type": "stream",
          "name": "stdout",
          "text": [
            "0.7443958645345186\n"
          ]
        }
      ],
      "source": [
        "\n",
        "print(accuracy_score(y_test,log_pre))"
      ]
    },
    {
      "cell_type": "code",
      "source": [],
      "metadata": {
        "id": "d2gbYjn24_JC"
      },
      "execution_count": null,
      "outputs": []
    },
    {
      "cell_type": "markdown",
      "source": [
        "###### from the above training and evaluation, random forest algorithm is chosen, beacuse of it's high accuracy and has no traces of overfitting"
      ],
      "metadata": {
        "id": "LNM3tP8D5ARm"
      }
    },
    {
      "cell_type": "code",
      "execution_count": 79,
      "metadata": {
        "colab": {
          "base_uri": "https://localhost:8080/"
        },
        "id": "8V8v5BFvoCM9",
        "outputId": "f999d6c5-1d40-41cb-b03d-16f0f0471609"
      },
      "outputs": [
        {
          "output_type": "execute_result",
          "data": {
            "text/plain": [
              "array([[39065,  2177],\n",
              "       [  879, 40675]])"
            ]
          },
          "metadata": {},
          "execution_count": 79
        }
      ],
      "source": [
        "cm=confusion_matrix(y_test,rf_pre)\n",
        "cm"
      ]
    },
    {
      "cell_type": "code",
      "source": [
        "sns.heatmap(cm,annot=True,fmt='d') # visualizing the confusion_matrix"
      ],
      "metadata": {
        "colab": {
          "base_uri": "https://localhost:8080/",
          "height": 447
        },
        "id": "964ZN8Wdtb9-",
        "outputId": "c8459c2b-fc78-4527-8e02-eb2321a3b5ee"
      },
      "execution_count": 99,
      "outputs": [
        {
          "output_type": "execute_result",
          "data": {
            "text/plain": [
              "<Axes: >"
            ]
          },
          "metadata": {},
          "execution_count": 99
        },
        {
          "output_type": "display_data",
          "data": {
            "text/plain": [
              "<Figure size 640x480 with 2 Axes>"
            ],
            "image/png": "[encoded data removed]"
          },
          "metadata": {}
        }
      ]
    },
    {
      "cell_type": "code",
      "source": [
        "# classification report\n",
        "print(classification_report(y_test,rf_pre))"
      ],
      "metadata": {
        "colab": {
          "base_uri": "https://localhost:8080/"
        },
        "id": "hQkbGb2ltplW",
        "outputId": "4ad4fc60-bc7e-413f-ae70-d1c57e252c8e"
      },
      "execution_count": 101,
      "outputs": [
        {
          "output_type": "stream",
          "name": "stdout",
          "text": [
            "              precision    recall  f1-score   support\n",
            "\n",
            "         0.0       0.98      0.95      0.96     41242\n",
            "         1.0       0.95      0.98      0.96     41554\n",
            "\n",
            "    accuracy                           0.96     82796\n",
            "   macro avg       0.96      0.96      0.96     82796\n",
            "weighted avg       0.96      0.96      0.96     82796\n",
            "\n"
          ]
        }
      ]
    },
    {
      "cell_type": "code",
      "execution_count": 89,
      "metadata": {
        "id": "yA795rFByvyK"
      },
      "outputs": [],
      "source": [
        "# determing features base of their contribution to the model\n",
        "fr=rf.feature_importances_\n",
        "v=['transaction_type', 'trans_amount', 'trans_origin', 'bal_before_trans','trans_recipient', 'bal_after_trans_recip']"
      ]
    },
    {
      "cell_type": "code",
      "execution_count": 90,
      "metadata": {
        "colab": {
          "base_uri": "https://localhost:8080/",
          "height": 447
        },
        "id": "qk1c-SmKey-H",
        "outputId": "7524bf6e-b78d-4d55-c5b2-3bc058a82e06"
      },
      "outputs": [
        {
          "output_type": "execute_result",
          "data": {
            "text/plain": [
              "<Axes: >"
            ]
          },
          "metadata": {},
          "execution_count": 90
        },
        {
          "output_type": "display_data",
          "data": {
            "text/plain": [
              "<Figure size 640x480 with 1 Axes>"
            ],
            "image/png": "[encoded data removed]"
          },
          "metadata": {}
        }
      ],
      "source": [
        "# visualizing features that contribute to model predictions\n",
        "sns.barplot(x=fr,y=v)"
      ]
    },
    {
      "cell_type": "markdown",
      "source": [
        "###### from the above training and evaluation, random forest algorithm is chosen, beacuse it of high accuracy and has no traces of overfitting"
      ],
      "metadata": {
        "id": "VPIJ_Fuok5aO"
      }
    },
    {
      "cell_type": "markdown",
      "source": [
        "# model validation"
      ],
      "metadata": {
        "id": "Bz4y3Ma6kL94"
      }
    },
    {
      "cell_type": "code",
      "execution_count": 91,
      "metadata": {
        "id": "2XQM1C1Hg95f"
      },
      "outputs": [],
      "source": [
        "from sklearn.model_selection import KFold,cross_val_score"
      ]
    },
    {
      "cell_type": "code",
      "source": [
        "kf=KFold(n_splits=5)\n",
        "score=cross_val_score(rf,x_train_v,y_train,cv=kf)"
      ],
      "metadata": {
        "id": "w8dGxZDzkTti"
      },
      "execution_count": 92,
      "outputs": []
    },
    {
      "cell_type": "code",
      "source": [
        "score #validation score"
      ],
      "metadata": {
        "colab": {
          "base_uri": "https://localhost:8080/"
        },
        "id": "yRbeONWAkuiY",
        "outputId": "7e68bea6-4d6b-4885-b946-4ae02f2e5173"
      },
      "execution_count": 93,
      "outputs": [
        {
          "output_type": "execute_result",
          "data": {
            "text/plain": [
              "array([0.96402505, 0.96226513, 0.96345567, 0.96614732, 0.96089342])"
            ]
          },
          "metadata": {},
          "execution_count": 93
        }
      ]
    },
    {
      "cell_type": "markdown",
      "source": [
        "# Model testing"
      ],
      "metadata": {
        "id": "_qTXtKZyrq_S"
      }
    },
    {
      "cell_type": "code",
      "source": [
        "# input_data\n",
        "predictions=rf.predict(scaler.transform([[3\t,9839.640000,\t16372,\t170136.000000\t,42300,\t0.000000]]))"
      ],
      "metadata": {
        "id": "hE-nc2Jwrj4P"
      },
      "execution_count": 97,
      "outputs": []
    },
    {
      "cell_type": "code",
      "source": [
        "# predictions output\n",
        "if predictions==0:\n",
        "  print('non fraud')\n",
        "else:\n",
        "  print('fraud')"
      ],
      "metadata": {
        "colab": {
          "base_uri": "https://localhost:8080/"
        },
        "id": "vn4aKQcCsCsl",
        "outputId": "f4bfd482-7e83-4a3c-d524-51847876252a"
      },
      "execution_count": 98,
      "outputs": [
        {
          "output_type": "stream",
          "name": "stdout",
          "text": [
            "non fraud\n"
          ]
        }
      ]
    },
    {
      "cell_type": "markdown",
      "source": [
        "# Report and Explaination"
      ],
      "metadata": {
        "id": "4ZSwGEdTvVNT"
      }
    },
    {
      "cell_type": "code",
      "source": [
        "# Question 2:\n",
        "# Describe your fraud detection model in elaboration.\n",
        "# I developed a fraud detection model using a Random Forest Classifier, achieving high accuracy .\n",
        "# The dataset was preprocessed by handling missing values, addressing outliers, and balancing classes using SMOTE.\n",
        "# Features like transaction type, amount, and balances were standardized and selected based on their importance.\n",
        "# The model was validated using cross-validation and deployed to predict fraudulent transactions in real-time,\n",
        "# demonstrating reliable performance without overfitting."
      ],
      "metadata": {
        "id": "tyGOXN75sNq-"
      },
      "execution_count": 102,
      "outputs": []
    },
    {
      "cell_type": "code",
      "source": [
        "# Question3:\n",
        "# How did you select variables to be included in the model?\n",
        "# Variables were selected based on correlation analysis, multicollinearity checks using VIF,\n",
        "# and feature importance from the Random Forest model. Additionally, domain knowledge about fraud patterns\n",
        "# guided the inclusion of key variables like transaction type, amount, and account balances to enhance predictive accuracy."
      ],
      "metadata": {
        "id": "tAv6uuXhv9Uy"
      },
      "execution_count": 103,
      "outputs": []
    },
    {
      "cell_type": "code",
      "source": [
        "# Question 4:\n",
        "# What are the key factors that predict fraudulent customer?\n",
        "# The key factors that predict fraudulent transactions include transaction type, transaction amount, balances before and after the transaction,\n",
        "# and details of the transaction origin and recipient. These features capture anomalies in transaction patterns and account behaviors,\n",
        "# which are strong indicators of fraud."
      ],
      "metadata": {
        "id": "WqFnoNDpytlF"
      },
      "execution_count": 104,
      "outputs": []
    },
    {
      "cell_type": "code",
      "source": [
        "# Question 5:\n",
        "# Do these factors make sense? If yes, How? If not, How not?\n",
        "# Yes, these factors make sense as they align with real-world fraud patterns.\n",
        "# example, unusual transaction types or amounts, significant balance changes, and suspicious origins or recipients are common indicators of fraud.\n",
        "# They reflect anomalies in behavior that fraud detection models are designed to identify. therefore,\n",
        " # their effectiveness depends on data quality and the model's ability to capture relevant patterns."
      ],
      "metadata": {
        "id": "zowSv-ZRzdaX"
      },
      "execution_count": 105,
      "outputs": []
    },
    {
      "cell_type": "code",
      "source": [
        "# Question 6:\n",
        "# What kind of prevention should be adopted while company update its infrastructure?\n",
        "# A company should take the following measures:\n",
        "# encrypting data transfers, backing up critical systems, implementing multi-factor authentication and continuously monitoring performance.\n",
        "# These steps ensure a smooth transition while minimizing risks"
      ],
      "metadata": {
        "id": "2OLNfBeG0OKA"
      },
      "execution_count": 106,
      "outputs": []
    },
    {
      "cell_type": "code",
      "source": [
        "# Question 7:\n",
        "# To determine if the implemented prevention measures work:\n",
        "\n",
        "# 1,Track system uptime, performance, and security incident rates before and after the update. A reduction in incidents indicates success.\n",
        "# 2, Perform regular security and compliance audits to verify adherence to standards.\n",
        "# 3, Simulate potential threats or disasters to ensure systems respond as expected.\n",
        "# 4, Collect input from staff to assess usability and identify overlooked issues.\n",
        "# 5, Monitor user activity for anomalies, indicating whether access controls and monitoring tools are effective."
      ],
      "metadata": {
        "id": "yUP_QmC_2--y"
      },
      "execution_count": 108,
      "outputs": []
    },
    {
      "cell_type": "code",
      "source": [],
      "metadata": {
        "id": "3vyYJBok3-kf"
      },
      "execution_count": 108,
      "outputs": []
    }
  ],
  "metadata": {
    "colab": {
      "provenance": []
    },
    "kernelspec": {
      "display_name": "Python 3",
      "name": "python3"
    },
    "language_info": {
      "name": "python"
    }
  },
  "nbformat": 4,
  "nbformat_minor": 0
}